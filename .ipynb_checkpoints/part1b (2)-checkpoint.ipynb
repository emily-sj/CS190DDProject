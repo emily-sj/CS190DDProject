{
 "cells": [
  {
   "cell_type": "code",
   "execution_count": 1,
   "metadata": {},
   "outputs": [],
   "source": [
    "import numpy as np"
   ]
  },
  {
   "cell_type": "code",
   "execution_count": 2,
   "metadata": {},
   "outputs": [],
   "source": [
    "data=np.load(\"part1b.npz\")"
   ]
  },
  {
   "cell_type": "code",
   "execution_count": 3,
   "metadata": {},
   "outputs": [
    {
     "data": {
      "text/plain": [
       "['N', 'Lc', 'Ic_0', 'gamma', 'L_validation', 'L_test', 'betas_validation']"
      ]
     },
     "execution_count": 3,
     "metadata": {},
     "output_type": "execute_result"
    }
   ],
   "source": [
    "data.files"
   ]
  },
  {
   "cell_type": "code",
   "execution_count": 4,
   "metadata": {},
   "outputs": [
    {
     "data": {
      "text/plain": [
       "array(50000.)"
      ]
     },
     "execution_count": 4,
     "metadata": {},
     "output_type": "execute_result"
    }
   ],
   "source": [
    "data[\"N\"]"
   ]
  },
  {
   "cell_type": "code",
   "execution_count": 5,
   "metadata": {},
   "outputs": [
    {
     "data": {
      "text/plain": [
       "(4,)"
      ]
     },
     "execution_count": 5,
     "metadata": {},
     "output_type": "execute_result"
    }
   ],
   "source": [
    "data['Lc'].shape"
   ]
  },
  {
   "cell_type": "code",
   "execution_count": 6,
   "metadata": {},
   "outputs": [],
   "source": [
    "nx=np.sum(data['Ic_0'],axis=1)"
   ]
  },
  {
   "cell_type": "code",
   "execution_count": 7,
   "metadata": {},
   "outputs": [
    {
     "data": {
      "text/plain": [
       "(20, 20)"
      ]
     },
     "execution_count": 7,
     "metadata": {},
     "output_type": "execute_result"
    }
   ],
   "source": [
    "data[\"L_validation\"].shape"
   ]
  },
  {
   "cell_type": "code",
   "execution_count": 11,
   "metadata": {},
   "outputs": [
    {
     "data": {
      "text/plain": [
       "(20, 20)"
      ]
     },
     "execution_count": 11,
     "metadata": {},
     "output_type": "execute_result"
    }
   ],
   "source": [
    "L_val.shape"
   ]
  },
  {
   "cell_type": "code",
   "execution_count": 10,
   "metadata": {
    "scrolled": true
   },
   "outputs": [
    {
     "name": "stdout",
     "output_type": "stream",
     "text": [
      "[49747 49737 49818 49800 49832 49845 49776 49804 49740 49899 49835 49741\n",
      " 49774 49811 49792 49897 49791 49659 49808 49840]\n",
      "(20, 16)\n",
      "[[24873.5 14924.1  4974.7  4974.7 19898.8 14924.1  9949.4  4974.7 14924.1\n",
      "  14924.1  9949.4  9949.4  4974.7  9949.4 14924.1 19898.8]\n",
      " [24868.5 14921.1  4973.7  4973.7 19894.8 14921.1  9947.4  4973.7 14921.1\n",
      "  14921.1  9947.4  9947.4  4973.7  9947.4 14921.1 19894.8]\n",
      " [24909.  14945.4  4981.8  4981.8 19927.2 14945.4  9963.6  4981.8 14945.4\n",
      "  14945.4  9963.6  9963.6  4981.8  9963.6 14945.4 19927.2]\n",
      " [24900.  14940.   4980.   4980.  19920.  14940.   9960.   4980.  14940.\n",
      "  14940.   9960.   9960.   4980.   9960.  14940.  19920. ]\n",
      " [24916.  14949.6  4983.2  4983.2 19932.8 14949.6  9966.4  4983.2 14949.6\n",
      "  14949.6  9966.4  9966.4  4983.2  9966.4 14949.6 19932.8]\n",
      " [24922.5 14953.5  4984.5  4984.5 19938.  14953.5  9969.   4984.5 14953.5\n",
      "  14953.5  9969.   9969.   4984.5  9969.  14953.5 19938. ]\n",
      " [24888.  14932.8  4977.6  4977.6 19910.4 14932.8  9955.2  4977.6 14932.8\n",
      "  14932.8  9955.2  9955.2  4977.6  9955.2 14932.8 19910.4]\n",
      " [24902.  14941.2  4980.4  4980.4 19921.6 14941.2  9960.8  4980.4 14941.2\n",
      "  14941.2  9960.8  9960.8  4980.4  9960.8 14941.2 19921.6]\n",
      " [24870.  14922.   4974.   4974.  19896.  14922.   9948.   4974.  14922.\n",
      "  14922.   9948.   9948.   4974.   9948.  14922.  19896. ]\n",
      " [24949.5 14969.7  4989.9  4989.9 19959.6 14969.7  9979.8  4989.9 14969.7\n",
      "  14969.7  9979.8  9979.8  4989.9  9979.8 14969.7 19959.6]\n",
      " [24917.5 14950.5  4983.5  4983.5 19934.  14950.5  9967.   4983.5 14950.5\n",
      "  14950.5  9967.   9967.   4983.5  9967.  14950.5 19934. ]\n",
      " [24870.5 14922.3  4974.1  4974.1 19896.4 14922.3  9948.2  4974.1 14922.3\n",
      "  14922.3  9948.2  9948.2  4974.1  9948.2 14922.3 19896.4]\n",
      " [24887.  14932.2  4977.4  4977.4 19909.6 14932.2  9954.8  4977.4 14932.2\n",
      "  14932.2  9954.8  9954.8  4977.4  9954.8 14932.2 19909.6]\n",
      " [24905.5 14943.3  4981.1  4981.1 19924.4 14943.3  9962.2  4981.1 14943.3\n",
      "  14943.3  9962.2  9962.2  4981.1  9962.2 14943.3 19924.4]\n",
      " [24896.  14937.6  4979.2  4979.2 19916.8 14937.6  9958.4  4979.2 14937.6\n",
      "  14937.6  9958.4  9958.4  4979.2  9958.4 14937.6 19916.8]\n",
      " [24948.5 14969.1  4989.7  4989.7 19958.8 14969.1  9979.4  4989.7 14969.1\n",
      "  14969.1  9979.4  9979.4  4989.7  9979.4 14969.1 19958.8]\n",
      " [24895.5 14937.3  4979.1  4979.1 19916.4 14937.3  9958.2  4979.1 14937.3\n",
      "  14937.3  9958.2  9958.2  4979.1  9958.2 14937.3 19916.4]\n",
      " [24829.5 14897.7  4965.9  4965.9 19863.6 14897.7  9931.8  4965.9 14897.7\n",
      "  14897.7  9931.8  9931.8  4965.9  9931.8 14897.7 19863.6]\n",
      " [24904.  14942.4  4980.8  4980.8 19923.2 14942.4  9961.6  4980.8 14942.4\n",
      "  14942.4  9961.6  9961.6  4980.8  9961.6 14942.4 19923.2]\n",
      " [24920.  14952.   4984.   4984.  19936.  14952.   9968.   4984.  14952.\n",
      "  14952.   9968.   9968.   4984.   9968.  14952.  19936. ]]\n"
     ]
    }
   ],
   "source": [
    "N=50000\n",
    "Ic_01=data['Ic_0']\n",
    "Ic_0=nx\n",
    "not_inf=50000-Ic_0 #origin population not infected \n",
    "nd=not_inf.reshape(-1,1)\n",
    "print(not_inf)\n",
    "\n",
    "\n",
    "\n",
    "leaf_nodes=np.array([[.5,.3,.1,.1],[.4,.3,.2,.1],[.3,.3,.2,.2],[.1,.2,.3,.4]])\n",
    "leafs=leaf_nodes.reshape(-1,1)\n",
    "\n",
    "leaf1=np.dot(nd,leafs.transpose())# finding the intial suspectiable population \n",
    "#leaf2=np.dot(leaf_nodes,not_inf.transpose())\n",
    "#leaf1\n",
    "\n",
    "print(leaf1.shape)\n",
    "print(leaf1)\n",
    "\n",
    "L_val=data[\"L_validation\"]\n",
    "Lc=data['Lc']\n",
    "#lc1=Lc.reshape(-1,1)\n",
    "betas_v=data[\"betas_validation\"]\n",
    "\n",
    "Rc=np.array([0])\n",
    "t=np.linspace(0,20,20)\n",
    "I=np.sum(Ic_0)\n",
    "Gamma=data[\"gamma\"]\n"
   ]
  },
  {
   "cell_type": "code",
   "execution_count": 12,
   "metadata": {},
   "outputs": [],
   "source": [
    "def SIR(t,y,betas,gammas):\n",
    "    S_vec=y[0:16]\n",
    "    I_vec=y[16:20]\n",
    "    R_vec=y[20]\n",
    "    \n",
    "    N=50000 ##population size \n",
    "    \n",
    "    dsvc_dt=-(betas*S_vec*sum(I_vec)/N)\n",
    "    dic_dt=-(np.sum(dsvc_dt,axis=0))-(gammas*I_vec)\n",
    "    dr_dt=gammas*sum(I_vec)\n",
    "    \n",
    "    vectors=np.concatenate([dsvc_dt.flatten(),dic_dt.flatten(),dr_dt.flatten()])\n",
    "    #breakpoint()\n",
    "    return vectors"
   ]
  },
  {
   "cell_type": "code",
   "execution_count": 13,
   "metadata": {},
   "outputs": [
    {
     "ename": "ValueError",
     "evalue": "Found input variables with inconsistent numbers of samples: [20, 4]",
     "output_type": "error",
     "traceback": [
      "\u001b[0;31m---------------------------------------------------------------------------\u001b[0m",
      "\u001b[0;31mValueError\u001b[0m                                Traceback (most recent call last)",
      "\u001b[0;32m<ipython-input-13-eff81d178a14>\u001b[0m in \u001b[0;36m<module>\u001b[0;34m\u001b[0m\n\u001b[1;32m     26\u001b[0m \u001b[0;34m\u001b[0m\u001b[0m\n\u001b[1;32m     27\u001b[0m \u001b[0;34m\u001b[0m\u001b[0m\n\u001b[0;32m---> 28\u001b[0;31m         \u001b[0mcumulative_mse\u001b[0m \u001b[0;34m+=\u001b[0m \u001b[0mmean_squared_error\u001b[0m\u001b[0;34m(\u001b[0m\u001b[0mobserved_data\u001b[0m\u001b[0;34m[\u001b[0m\u001b[0mnode_index\u001b[0m\u001b[0;34m]\u001b[0m\u001b[0;34m,\u001b[0m \u001b[0mdd\u001b[0m\u001b[0;34m)\u001b[0m\u001b[0;34m\u001b[0m\u001b[0;34m\u001b[0m\u001b[0m\n\u001b[0m\u001b[1;32m     29\u001b[0m \u001b[0;34m\u001b[0m\u001b[0m\n\u001b[1;32m     30\u001b[0m     \u001b[0;32mif\u001b[0m \u001b[0mcumulative_mse\u001b[0m\u001b[0;34m<\u001b[0m\u001b[0mmmse\u001b[0m\u001b[0;34m:\u001b[0m\u001b[0;34m\u001b[0m\u001b[0;34m\u001b[0m\u001b[0m\n",
      "\u001b[0;32m~/miniconda3/lib/python3.8/site-packages/sklearn/utils/validation.py\u001b[0m in \u001b[0;36minner_f\u001b[0;34m(*args, **kwargs)\u001b[0m\n\u001b[1;32m     70\u001b[0m                           FutureWarning)\n\u001b[1;32m     71\u001b[0m         \u001b[0mkwargs\u001b[0m\u001b[0;34m.\u001b[0m\u001b[0mupdate\u001b[0m\u001b[0;34m(\u001b[0m\u001b[0;34m{\u001b[0m\u001b[0mk\u001b[0m\u001b[0;34m:\u001b[0m \u001b[0marg\u001b[0m \u001b[0;32mfor\u001b[0m \u001b[0mk\u001b[0m\u001b[0;34m,\u001b[0m \u001b[0marg\u001b[0m \u001b[0;32min\u001b[0m \u001b[0mzip\u001b[0m\u001b[0;34m(\u001b[0m\u001b[0msig\u001b[0m\u001b[0;34m.\u001b[0m\u001b[0mparameters\u001b[0m\u001b[0;34m,\u001b[0m \u001b[0margs\u001b[0m\u001b[0;34m)\u001b[0m\u001b[0;34m}\u001b[0m\u001b[0;34m)\u001b[0m\u001b[0;34m\u001b[0m\u001b[0;34m\u001b[0m\u001b[0m\n\u001b[0;32m---> 72\u001b[0;31m         \u001b[0;32mreturn\u001b[0m \u001b[0mf\u001b[0m\u001b[0;34m(\u001b[0m\u001b[0;34m**\u001b[0m\u001b[0mkwargs\u001b[0m\u001b[0;34m)\u001b[0m\u001b[0;34m\u001b[0m\u001b[0;34m\u001b[0m\u001b[0m\n\u001b[0m\u001b[1;32m     73\u001b[0m     \u001b[0;32mreturn\u001b[0m \u001b[0minner_f\u001b[0m\u001b[0;34m\u001b[0m\u001b[0;34m\u001b[0m\u001b[0m\n\u001b[1;32m     74\u001b[0m \u001b[0;34m\u001b[0m\u001b[0m\n",
      "\u001b[0;32m~/miniconda3/lib/python3.8/site-packages/sklearn/metrics/_regression.py\u001b[0m in \u001b[0;36mmean_squared_error\u001b[0;34m(y_true, y_pred, sample_weight, multioutput, squared)\u001b[0m\n\u001b[1;32m    253\u001b[0m \u001b[0;34m\u001b[0m\u001b[0m\n\u001b[1;32m    254\u001b[0m     \"\"\"\n\u001b[0;32m--> 255\u001b[0;31m     y_type, y_true, y_pred, multioutput = _check_reg_targets(\n\u001b[0m\u001b[1;32m    256\u001b[0m         y_true, y_pred, multioutput)\n\u001b[1;32m    257\u001b[0m     \u001b[0mcheck_consistent_length\u001b[0m\u001b[0;34m(\u001b[0m\u001b[0my_true\u001b[0m\u001b[0;34m,\u001b[0m \u001b[0my_pred\u001b[0m\u001b[0;34m,\u001b[0m \u001b[0msample_weight\u001b[0m\u001b[0;34m)\u001b[0m\u001b[0;34m\u001b[0m\u001b[0;34m\u001b[0m\u001b[0m\n",
      "\u001b[0;32m~/miniconda3/lib/python3.8/site-packages/sklearn/metrics/_regression.py\u001b[0m in \u001b[0;36m_check_reg_targets\u001b[0;34m(y_true, y_pred, multioutput, dtype)\u001b[0m\n\u001b[1;32m     82\u001b[0m \u001b[0;34m\u001b[0m\u001b[0m\n\u001b[1;32m     83\u001b[0m     \"\"\"\n\u001b[0;32m---> 84\u001b[0;31m     \u001b[0mcheck_consistent_length\u001b[0m\u001b[0;34m(\u001b[0m\u001b[0my_true\u001b[0m\u001b[0;34m,\u001b[0m \u001b[0my_pred\u001b[0m\u001b[0;34m)\u001b[0m\u001b[0;34m\u001b[0m\u001b[0;34m\u001b[0m\u001b[0m\n\u001b[0m\u001b[1;32m     85\u001b[0m     \u001b[0my_true\u001b[0m \u001b[0;34m=\u001b[0m \u001b[0mcheck_array\u001b[0m\u001b[0;34m(\u001b[0m\u001b[0my_true\u001b[0m\u001b[0;34m,\u001b[0m \u001b[0mensure_2d\u001b[0m\u001b[0;34m=\u001b[0m\u001b[0;32mFalse\u001b[0m\u001b[0;34m,\u001b[0m \u001b[0mdtype\u001b[0m\u001b[0;34m=\u001b[0m\u001b[0mdtype\u001b[0m\u001b[0;34m)\u001b[0m\u001b[0;34m\u001b[0m\u001b[0;34m\u001b[0m\u001b[0m\n\u001b[1;32m     86\u001b[0m     \u001b[0my_pred\u001b[0m \u001b[0;34m=\u001b[0m \u001b[0mcheck_array\u001b[0m\u001b[0;34m(\u001b[0m\u001b[0my_pred\u001b[0m\u001b[0;34m,\u001b[0m \u001b[0mensure_2d\u001b[0m\u001b[0;34m=\u001b[0m\u001b[0;32mFalse\u001b[0m\u001b[0;34m,\u001b[0m \u001b[0mdtype\u001b[0m\u001b[0;34m=\u001b[0m\u001b[0mdtype\u001b[0m\u001b[0;34m)\u001b[0m\u001b[0;34m\u001b[0m\u001b[0;34m\u001b[0m\u001b[0m\n",
      "\u001b[0;32m~/miniconda3/lib/python3.8/site-packages/sklearn/utils/validation.py\u001b[0m in \u001b[0;36mcheck_consistent_length\u001b[0;34m(*arrays)\u001b[0m\n\u001b[1;32m    253\u001b[0m     \u001b[0muniques\u001b[0m \u001b[0;34m=\u001b[0m \u001b[0mnp\u001b[0m\u001b[0;34m.\u001b[0m\u001b[0munique\u001b[0m\u001b[0;34m(\u001b[0m\u001b[0mlengths\u001b[0m\u001b[0;34m)\u001b[0m\u001b[0;34m\u001b[0m\u001b[0;34m\u001b[0m\u001b[0m\n\u001b[1;32m    254\u001b[0m     \u001b[0;32mif\u001b[0m \u001b[0mlen\u001b[0m\u001b[0;34m(\u001b[0m\u001b[0muniques\u001b[0m\u001b[0;34m)\u001b[0m \u001b[0;34m>\u001b[0m \u001b[0;36m1\u001b[0m\u001b[0;34m:\u001b[0m\u001b[0;34m\u001b[0m\u001b[0;34m\u001b[0m\u001b[0m\n\u001b[0;32m--> 255\u001b[0;31m         raise ValueError(\"Found input variables with inconsistent numbers of\"\n\u001b[0m\u001b[1;32m    256\u001b[0m                          \" samples: %r\" % [int(l) for l in lengths])\n\u001b[1;32m    257\u001b[0m \u001b[0;34m\u001b[0m\u001b[0m\n",
      "\u001b[0;31mValueError\u001b[0m: Found input variables with inconsistent numbers of samples: [20, 4]"
     ]
    }
   ],
   "source": [
    "from sklearn.metrics import mean_squared_error\n",
    "from scipy.integrate import solve_ivp\n",
    "beta_grid=np.linspace(0.01,1.0,20)\n",
    "lf_nodes=20\n",
    "observed_data=L_val\n",
    "mmse=np.inf\n",
    "beta_mmse=np.nan\n",
    "Rc=np.zeros((lf_nodes))\n",
    "for (beta) in beta_grid:\n",
    "    cumulative_mse = 0.0\n",
    "    \n",
    "    for node_index in range(lf_nodes):\n",
    "        initial_conditions=np.concatenate([leaf1[node_index].flatten(), Ic_01[node_index].flatten(), Rc[node_index].flatten()])\n",
    "\n",
    "        soln_obj=solve_ivp(SIR, (t[0], t[-1]), initial_conditions,\\\n",
    "                                     t_eval=t, args=(beta, Gamma))\n",
    "\n",
    "\n",
    "        S_predicted=soln_obj.y[0:16]\n",
    "        I_predicted=soln_obj.y[16:20]\n",
    "        R_predicted=soln_obj.y[20]\n",
    "        \n",
    "        \n",
    "        L_predicted=np.dot(I_predicted.reshape(-1,1),(Lc.reshape(-1,1)).transpose())\n",
    "        dd=np.sum(L_predicted,axis=0)\n",
    "        \n",
    "        \n",
    "        cumulative_mse += mean_squared_error(observed_data[node_index], dd) \n",
    "    \n",
    "    if cumulative_mse<mmse:\n",
    "        mmse = mse\n",
    "        beta_mmse=beta\n",
    "        gamma_mmse=gamma\n",
    "        \n",
    "print(f\"True values are beta={beta_true:.2f}, gamma={gamma_true:.2f}\")\n",
    "print(f\"Estimated values are beta={beta_mmse:.2f}, gamma={gamma_mmse:.2f}\")\n"
   ]
  },
  {
   "cell_type": "code",
   "execution_count": null,
   "metadata": {},
   "outputs": [],
   "source": []
  },
  {
   "cell_type": "code",
   "execution_count": null,
   "metadata": {},
   "outputs": [],
   "source": []
  }
 ],
 "metadata": {
  "kernelspec": {
   "display_name": "Python 3",
   "language": "python",
   "name": "python3"
  },
  "language_info": {
   "codemirror_mode": {
    "name": "ipython",
    "version": 3
   },
   "file_extension": ".py",
   "mimetype": "text/x-python",
   "name": "python",
   "nbconvert_exporter": "python",
   "pygments_lexer": "ipython3",
   "version": "3.8.3"
  }
 },
 "nbformat": 4,
 "nbformat_minor": 4
}
