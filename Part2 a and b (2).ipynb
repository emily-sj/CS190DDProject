{
 "cells": [
  {
   "cell_type": "markdown",
   "metadata": {},
   "source": [
    "# Project Part 2 Solutions"
   ]
  },
  {
   "cell_type": "markdown",
   "metadata": {},
   "source": [
    "## (a)"
   ]
  },
  {
   "cell_type": "code",
   "execution_count": 1,
   "metadata": {},
   "outputs": [
    {
     "data": {
      "text/plain": [
       "4"
      ]
     },
     "execution_count": 1,
     "metadata": {},
     "output_type": "execute_result"
    }
   ],
   "source": [
    "import numpy as np\n",
    "\n",
    "file=np.load(\"part2.npz\")\n",
    "beta_old=file['beta_old']\n",
    "N=file['N']\n",
    "Svc_0_PMF=file['Svc_0_PMF']\n",
    "Lc=file['Lc']\n",
    "Ic_0=file['Ic_0']\n",
    "gamma=file['gamma']\n",
    "L_observed=file['L_observed']\n",
    "nb_nodes = Svc_0_PMF.shape[0]\n",
    "file.files\n",
    "Svc_0_PMF.shape[1]\n"
   ]
  },
  {
   "cell_type": "code",
   "execution_count": 2,
   "metadata": {},
   "outputs": [],
   "source": [
    "def SIR(t, Z, N, betas, gamma):\n",
    "    (S_vec, I_vec, R) = (Z[:16].reshape(4, 4), Z[16:20], Z[-1])\n",
    "    I = I_vec.sum()\n",
    "    dSdt = -betas*S_vec*I/N \n",
    "    dIdt = -dSdt.sum(axis=0)-gamma*I_vec\n",
    "    dRdt = np.array([gamma*I])\n",
    "    return np.concatenate((dSdt.flatten(), dIdt, dRdt))"
   ]
  },
  {
   "cell_type": "code",
   "execution_count": 3,
   "metadata": {},
   "outputs": [],
   "source": [
    "def SIR1(t, Z, N, betas, gamma,alpha):\n",
    "    (S_vec, I_vec, R) = (Z[:16].reshape(4, 4), Z[16:20], Z[-1])\n",
    "    I = I_vec.sum()\n",
    "    dSdt = -(betas*alpha)*S_vec*I/N \n",
    "    dIdt = -dSdt.sum(axis=0)-gamma*I_vec\n",
    "    dRdt = np.array([gamma*I])\n",
    "    return np.concatenate((dSdt.flatten(), dIdt, dRdt))"
   ]
  },
  {
   "cell_type": "code",
   "execution_count": 4,
   "metadata": {},
   "outputs": [],
   "source": [
    "from random import seed\n",
    "from random import random\n",
    "def loss_func(alpha,node_index,N):\n",
    "    initial_conditions = np.concatenate((S[node_index,:,:,9].flatten(), I[node_index,:,9], [R[node_index,9]]))\n",
    "    soln = solve_ivp(SIR1, (t[10], t[29]), initial_conditions, args=(N, beta_old, gamma,alpha), t_eval=t[10:30])\n",
    "\n",
    "    S[node_index, :, :, 10:30] = soln.y[:16].reshape(4, 4, -1)\n",
    "    I[node_index, :, 10:30] = soln.y[16:20]\n",
    "    R[node_index, 10:30] = soln.y[20]\n",
    "    L[node_index, 10:30] = Lc@soln.y[16:20]\n",
    "    Lpredicted=L[node_index, 10:30]\n",
    "    mse= mean_squared_error(Lpredicted,L_observed[node_index,10:30])\n",
    "    #breakpoint()\n",
    "    return mse\n"
   ]
  },
  {
   "cell_type": "code",
   "execution_count": 5,
   "metadata": {},
   "outputs": [
    {
     "data": {
      "text/plain": [
       "187352.5410318418"
      ]
     },
     "execution_count": 5,
     "metadata": {},
     "output_type": "execute_result"
    }
   ],
   "source": [
    "from scipy.integrate import solve_ivp\n",
    "from scipy.optimize import fmin\n",
    "from sklearn.metrics import mean_squared_error\n",
    "\n",
    "Svc_0_PMF /= Svc_0_PMF.sum(axis=(1, 2), keepdims=True)\n",
    "Svc_0 = (N-Ic_0.sum(axis=1))[:, np.newaxis, np.newaxis]*Svc_0_PMF\n",
    "Svc_0 = Svc_0.round().astype(int)\n",
    "R0 = np.zeros((nb_nodes)).astype(int)\n",
    "\n",
    "t = np.linspace(0, 199, 200)\n",
    "\n",
    "S = np.zeros((nb_nodes, 4, 4, len(t)))\n",
    "I = np.zeros((nb_nodes, 4, len(t)))\n",
    "R = np.zeros((nb_nodes, len(t)))\n",
    "L = np.zeros((nb_nodes, len(t)))\n",
    "\n",
    "for N_node, node_index in zip(N, range(nb_nodes)):\n",
    "\n",
    "    initial_conditions = np.concatenate((Svc_0[node_index].flatten(), Ic_0[node_index], [R0[node_index]]))\n",
    "\n",
    "    soln = solve_ivp(SIR, (t[0], t[9]), initial_conditions, args=(N_node, beta_old, gamma), t_eval=t[:10])\n",
    "\n",
    "    S[node_index, :, :, :10] = soln.y[:16].reshape(4, 4, -1)\n",
    "    I[node_index, :, :10] = soln.y[16:20]\n",
    "    R[node_index, :10] = soln.y[20]\n",
    "    L[node_index, :10] = Lc@soln.y[16:20]\n",
    "\n",
    "\n",
    "alpha_predicted = np.zeros((nb_nodes))\n",
    "S[node_index,:,:,0:200].sum()"
   ]
  },
  {
   "cell_type": "code",
   "execution_count": 6,
   "metadata": {},
   "outputs": [],
   "source": [
    "for N_node, node_index in zip(N, range(nb_nodes)):\n",
    "    alpha_predicted[node_index] = fmin(loss_func, 0.5,args=(node_index,N_node,),disp=False)\n",
    "    #breakpoint()\n"
   ]
  },
  {
   "cell_type": "code",
   "execution_count": 9,
   "metadata": {},
   "outputs": [
    {
     "name": "stdout",
     "output_type": "stream",
     "text": [
      "[14 50 19 70 96 54 37 25 69 33 90  9 43 56 16 95 66  5 79 51 13 49 27  2\n",
      " 15 93  0 48 98 64 44 86 92 23 53 20 21 61 58 10 38 84 85 72 30 31 75 12\n",
      " 11 36 80 91 47 52 71 24 62  7 83  6  8 60 78 26 67 32  1 40 74 45 63 41\n",
      " 42 28 73 94 68 22 81 89 65 57 87 17 59 76 18 34 35 77 55 29 99  4 46 82\n",
      "  3 97 39 88]\n",
      "[[0.12352142 0.13822021 0.14249268 0.14443359 0.14606934 0.14807129\n",
      "  0.15137939 0.15171814 0.1552803  0.16387329 0.16503143 0.16713867\n",
      "  0.17045288 0.17644043 0.18051758 0.19622192 0.20018311 0.20029602\n",
      "  0.20103149 0.20452881 0.20931396 0.20965576 0.21018066 0.22185059\n",
      "  0.22246094 0.22650146 0.22669983 0.23173828 0.23728027 0.24645996\n",
      "  0.24889221 0.25011292 0.25706787 0.26390381 0.26639404 0.26811523\n",
      "  0.27178955 0.27543945 0.27561264 0.27568665 0.28189697 0.28358765\n",
      "  0.28780823 0.2932373  0.29797363 0.3010498  0.30296936 0.31580811\n",
      "  0.32045898 0.3225708  0.32358704 0.33059082 0.330896   0.33418884\n",
      "  0.33525391 0.33642883 0.34067383 0.35007172 0.35155029 0.35754395\n",
      "  0.3601532  0.36387939 0.37408447 0.3757782  0.38779907 0.39297028\n",
      "  0.39484253 0.41170807 0.41690369 0.41756592 0.42473755 0.43126221\n",
      "  0.43154907 0.44144897 0.44838867 0.45488892 0.46865234 0.49281006\n",
      "  0.51626587 0.51790771 0.52313232 0.53582764 0.54241028 0.56386719\n",
      "  0.56835938 0.56982422 0.59924927 0.61907349 0.66160202 0.66409302\n",
      "  0.66747131 0.68422394 0.69208984 0.70143738 0.71300049 0.72009888\n",
      "  0.73707123 0.89589844 0.90992126 0.98475342]]\n"
     ]
    }
   ],
   "source": [
    "dsort=np.argsort(alpha_predicted)\n",
    "alpha_predicted[0]\n",
    "a=np.array([alpha_predicted.flatten()])\n",
    "#print(np.argsort(a),alpha_predicted[14])\n",
    "#for n in d:\n",
    "    #print(n)\n",
    "print(dsort)\n",
    "print(sorted_alphas)"
   ]
  },
  {
   "cell_type": "code",
   "execution_count": 69,
   "metadata": {},
   "outputs": [
    {
     "name": "stdout",
     "output_type": "stream",
     "text": [
      "MSE 1.8315665422032086\n",
      "Alpha 0.22669982910156228\n"
     ]
    }
   ],
   "source": [
    "q=alpha_predicted[0]\n",
    "a=loss_func(q,0,N[0])\n",
    "print(\"MSE\",a)\n",
    "print(\"Alpha\",q)"
   ]
  },
  {
   "cell_type": "code",
   "execution_count": 8,
   "metadata": {},
   "outputs": [
    {
     "name": "stdout",
     "output_type": "stream",
     "text": [
      "Nodes ranked by how high theyre alphas is [[0.12352142 0.13822021 0.14249268 0.14443359 0.14606934 0.14807129\n",
      "  0.15137939 0.15171814 0.1552803  0.16387329 0.16503143 0.16713867\n",
      "  0.17045288 0.17644043 0.18051758 0.19622192 0.20018311 0.20029602\n",
      "  0.20103149 0.20452881 0.20931396 0.20965576 0.21018066 0.22185059\n",
      "  0.22246094 0.22650146 0.22669983 0.23173828 0.23728027 0.24645996\n",
      "  0.24889221 0.25011292 0.25706787 0.26390381 0.26639404 0.26811523\n",
      "  0.27178955 0.27543945 0.27561264 0.27568665 0.28189697 0.28358765\n",
      "  0.28780823 0.2932373  0.29797363 0.3010498  0.30296936 0.31580811\n",
      "  0.32045898 0.3225708  0.32358704 0.33059082 0.330896   0.33418884\n",
      "  0.33525391 0.33642883 0.34067383 0.35007172 0.35155029 0.35754395\n",
      "  0.3601532  0.36387939 0.37408447 0.3757782  0.38779907 0.39297028\n",
      "  0.39484253 0.41170807 0.41690369 0.41756592 0.42473755 0.43126221\n",
      "  0.43154907 0.44144897 0.44838867 0.45488892 0.46865234 0.49281006\n",
      "  0.51626587 0.51790771 0.52313232 0.53582764 0.54241028 0.56386719\n",
      "  0.56835938 0.56982422 0.59924927 0.61907349 0.66160202 0.66409302\n",
      "  0.66747131 0.68422394 0.69208984 0.70143738 0.71300049 0.72009888\n",
      "  0.73707123 0.89589844 0.90992126 0.98475342]]\n"
     ]
    }
   ],
   "source": [
    "sorted_alphas=np.array([alpha_predicted])\n",
    "sorted_alphas.sort()\n",
    "print(\"Nodes ranked by how high theyre alphas is\",sorted_alphas)"
   ]
  },
  {
   "cell_type": "markdown",
   "metadata": {},
   "source": [
    "## (b)"
   ]
  },
  {
   "cell_type": "code",
   "execution_count": 52,
   "metadata": {},
   "outputs": [],
   "source": [
    "sorted_alphas=sorted_alphas.flatten()\n",
    "#sorted_alphas[0]"
   ]
  },
  {
   "cell_type": "code",
   "execution_count": 53,
   "metadata": {},
   "outputs": [],
   "source": [
    "def before_alph(alpha):\n",
    "    totalbfNPI=[]\n",
    "    for old_index , node_index in zip(dsort,range(nb_nodes)):#dsort is the alphas ranked\n",
    "        #breakpoint\n",
    "        initial_conditions = np.concatenate((S[old_index,:,:,29].flatten(), I[old_index,:,29], [R[old_index,29]]))\n",
    "        soln = solve_ivp(SIR1, (t[30], t[-1]), initial_conditions, args=(N[old_index], beta_old, gamma,alpha[node_index]), t_eval=t[30:200])\n",
    "        #breakpoint\n",
    "        R[node_index, 30:200] = soln.y[20]\n",
    "        total=R[node_index,-1].sum()\n",
    "        totalbfNPI.append(total)\n",
    "       \n",
    "    #breakpoint()\n",
    "    \n",
    "    return totalbfNPI\n",
    "\n",
    "totalbfNPI1=before_alph(sorted_alphas)\n"
   ]
  },
  {
   "cell_type": "code",
   "execution_count": 54,
   "metadata": {},
   "outputs": [
    {
     "name": "stdout",
     "output_type": "stream",
     "text": [
      "(100, 4, 4, 200)\n"
     ]
    }
   ],
   "source": [
    "def g(money):\n",
    "    alpha = 1/np.log2(2*10**(-3)*money+2)\n",
    "    return alpha\n",
    "\n",
    "def g_inv(alpha):\n",
    "    money = (2**(1/alpha)-2)/(2*10**(-3))\n",
    "    return money\n",
    "    import matplotlib.pyplot as plt \n",
    "\n",
    "def scatter_plot(alpha_afterNPI):\n",
    "    plt.figure()\n",
    "    colors=(beta_old[np.newaxis,:,:]*Svc_0_PMF).mean(axis=(1,2))\n",
    "    plt.scatter(sorted_alphas,alpha_afterNPI, s=N/500, c=colors, cmap='jet', alpha=0.5)\n",
    "    plt.xlabel(r\"$\\alpha_{own}$\")\n",
    "    plt.ylabel(r\"$\\alpha_{after\\ NPI}$\")\n",
    "    #plt.axis([0, 1, 0, 1])\n",
    "\n",
    "\n",
    "S1 = np.zeros((nb_nodes, 4, 4, len(t)))\n",
    "R1 = np.zeros((nb_nodes, len(t)))\n",
    "print(S1.shape)\n",
    "def total_recovered_difference(alpha_afterNPI):\n",
    "    #dif=0\n",
    "    totalafNPI=[]\n",
    "    dif=0\n",
    "    for old_index , node_index in zip(dsort,range(nb_nodes)):#dsort is the alphas ranked \n",
    "        initial_conditions = np.concatenate((S[old_index,:,:,29].flatten(), I[old_index,:,29], [R[old_index,29]]))\n",
    "        soln1= solve_ivp(SIR1, (t[30], t[199]), initial_conditions, args=(N[old_index], beta_old, gamma,alpha_afterNPI[node_index]), t_eval=t[30:200])\n",
    "       \n",
    "\n",
    "        \n",
    "        R1[node_index, 30:200] = soln1.y[20]\n",
    "        total1=R1[node_index,-1].sum()\n",
    "        totalafNPI.append(total1)\n",
    "    for row in range(nb_nodes):\n",
    "        dif+= -totalafNPI[row]+totalbfNPI1[row]\n",
    "        #difference.append(dif)\n",
    "        #a=difference.sum()\n",
    "            \n",
    "    \n",
    "    \n",
    "    \n",
    "    return dif \n"
   ]
  },
  {
   "cell_type": "markdown",
   "metadata": {},
   "source": [
    "### Policy #1"
   ]
  },
  {
   "cell_type": "code",
   "execution_count": 55,
   "metadata": {},
   "outputs": [],
   "source": [
    "#i.\n",
    "A1=[]\n",
    "Newmoney=[]\n",
    "for r in dsort: #dsort is the alphas ranked\n",
    "    n=g_inv(alpha_predicted[r])\n",
    "    nm=n+10000\n",
    "    An=g(nm)\n",
    "    m=g_inv(An)\n",
    "    A1.append(An)\n",
    "    Newmoney.append(m)\n",
    "\n",
    "    "
   ]
  },
  {
   "cell_type": "code",
   "execution_count": 56,
   "metadata": {},
   "outputs": [
    {
     "data": {
      "image/png": "[encoded data removed]",
      "text/plain": [
       "<Figure size 432x288 with 1 Axes>"
      ]
     },
     "metadata": {
      "needs_background": "light"
     },
     "output_type": "display_data"
    }
   ],
   "source": [
    "scatter_plot(A1)"
   ]
  },
  {
   "cell_type": "code",
   "execution_count": 57,
   "metadata": {},
   "outputs": [
    {
     "data": {
      "text/plain": [
       "329723.9274361072"
      ]
     },
     "execution_count": 57,
     "metadata": {},
     "output_type": "execute_result"
    }
   ],
   "source": [
    "#ii\n",
    "total_recovered_difference(A1)"
   ]
  },
  {
   "cell_type": "markdown",
   "metadata": {},
   "source": [
    "### Policy #2"
   ]
  },
  {
   "cell_type": "code",
   "execution_count": 27,
   "metadata": {},
   "outputs": [],
   "source": [
    "nsum=N.sum()"
   ]
  },
  {
   "cell_type": "code",
   "execution_count": 39,
   "metadata": {},
   "outputs": [],
   "source": [
    "#i\n",
    "N_percent=N/nsum\n",
    "money=[]\n",
    "for r in dsort:\n",
    "    money.append(N_percent[r]*1000000)\n",
    "\n",
    "A2=[]\n",
    "Newmoney=[]\n",
    "for r in dsort: #dsort is the ranked nodes \n",
    "    n=g_inv(alpha_predicted[r])\n",
    "    nm=n+money[r]\n",
    "    An=g(nm)\n",
    "    m=g_inv(An)\n",
    "    A2.append(An)\n",
    "    Newmoney.append(m)"
   ]
  },
  {
   "cell_type": "code",
   "execution_count": 40,
   "metadata": {},
   "outputs": [
    {
     "data": {
      "image/png": "[encoded data removed]",
      "text/plain": [
       "<Figure size 432x288 with 1 Axes>"
      ]
     },
     "metadata": {
      "needs_background": "light"
     },
     "output_type": "display_data"
    }
   ],
   "source": [
    "import matplotlib.pyplot as plt\n",
    "scatter_plot(A2)"
   ]
  },
  {
   "cell_type": "code",
   "execution_count": 58,
   "metadata": {},
   "outputs": [
    {
     "data": {
      "text/plain": [
       "321196.4032715471"
      ]
     },
     "execution_count": 58,
     "metadata": {},
     "output_type": "execute_result"
    }
   ],
   "source": [
    "#ii\n",
    "total_recovered_difference(A2)"
   ]
  },
  {
   "cell_type": "markdown",
   "metadata": {},
   "source": [
    "### Policy #3"
   ]
  },
  {
   "cell_type": "markdown",
   "metadata": {},
   "source": [
    "i."
   ]
  },
  {
   "cell_type": "markdown",
   "metadata": {},
   "source": [
    "ii."
   ]
  },
  {
   "cell_type": "markdown",
   "metadata": {},
   "source": [
    "### Policy #4"
   ]
  },
  {
   "cell_type": "markdown",
   "metadata": {},
   "source": [
    "i."
   ]
  },
  {
   "cell_type": "markdown",
   "metadata": {},
   "source": [
    "ii."
   ]
  },
  {
   "cell_type": "markdown",
   "metadata": {},
   "source": [
    "## (c)"
   ]
  },
  {
   "cell_type": "markdown",
   "metadata": {},
   "source": [
    "### Policy 1"
   ]
  },
  {
   "cell_type": "markdown",
   "metadata": {},
   "source": [
    "### Policy 2"
   ]
  },
  {
   "cell_type": "markdown",
   "metadata": {},
   "source": [
    "### Policy 3"
   ]
  },
  {
   "cell_type": "markdown",
   "metadata": {},
   "source": [
    "### Policy 4"
   ]
  }
 ],
 "metadata": {
  "kernelspec": {
   "display_name": "Python 3",
   "language": "python",
   "name": "python3"
  },
  "language_info": {
   "codemirror_mode": {
    "name": "ipython",
    "version": 3
   },
   "file_extension": ".py",
   "mimetype": "text/x-python",
   "name": "python",
   "nbconvert_exporter": "python",
   "pygments_lexer": "ipython3",
   "version": "3.8.3"
  }
 },
 "nbformat": 4,
 "nbformat_minor": 2
}
