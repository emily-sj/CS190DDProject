{
 "cells": [
  {
   "cell_type": "markdown",
   "metadata": {},
   "source": [
    "# Project Part 2 Solutions"
   ]
  },
  {
   "cell_type": "markdown",
   "metadata": {},
   "source": [
    "## (a)"
   ]
  },
  {
   "cell_type": "code",
   "execution_count": 1,
   "metadata": {},
   "outputs": [
    {
     "data": {
      "text/plain": [
       "['beta_old', 'N', 'Svc_0_PMF', 'Lc', 'Ic_0', 'gamma', 'L_observed']"
      ]
     },
     "execution_count": 1,
     "metadata": {},
     "output_type": "execute_result"
    }
   ],
   "source": [
    "import numpy as np\n",
    "\n",
    "file=np.load(\"part2.npz\")\n",
    "beta_old=file['beta_old']\n",
    "N=file['N']\n",
    "Svc_0_PMF=file['Svc_0_PMF']\n",
    "Lc=file['Lc']\n",
    "Ic_0=file['Ic_0']\n",
    "gamma=file['gamma']\n",
    "L_observed=file['L_observed']\n",
    "nb_nodes = Svc_0_PMF.shape[0]\n",
    "file.files"
   ]
  },
  {
   "cell_type": "code",
   "execution_count": 2,
   "metadata": {},
   "outputs": [],
   "source": [
    "def SIR(t, Z, N, betas, gamma):\n",
    "    (S_vec, I_vec, R) = (Z[:16].reshape(4, 4), Z[16:20], Z[-1])\n",
    "    I = I_vec.sum()\n",
    "    dSdt = -betas*S_vec*I/N \n",
    "    dIdt = -dSdt.sum(axis=0)-gamma*I_vec\n",
    "    dRdt = np.array([gamma*I])\n",
    "    return np.concatenate((dSdt.flatten(), dIdt, dRdt))"
   ]
  },
  {
   "cell_type": "code",
   "execution_count": 3,
   "metadata": {},
   "outputs": [],
   "source": [
    "def SIR1(t, Z, N, betas, gamma,alpha):\n",
    "    (S_vec, I_vec, R) = (Z[:16].reshape(4, 4), Z[16:20], Z[-1])\n",
    "    I = I_vec.sum()\n",
    "    dSdt = -(betas*alpha)*S_vec*I/N \n",
    "    dIdt = -dSdt.sum(axis=0)-gamma*I_vec\n",
    "    dRdt = np.array([gamma*I])\n",
    "    return np.concatenate((dSdt.flatten(), dIdt, dRdt))"
   ]
  },
  {
   "cell_type": "code",
   "execution_count": 4,
   "metadata": {},
   "outputs": [],
   "source": [
    "from random import seed\n",
    "from random import random\n",
    "def loss_func(alpha,node_index,N):\n",
    "    initial_conditions = np.concatenate((S[node_index,:,:,9].flatten(), I[node_index,:,9], [R[node_index,9]]))\n",
    "    soln = solve_ivp(SIR1, (t[9], t[29]), initial_conditions, args=(N, beta_old, gamma,alpha), t_eval=t[10:30])\n",
    "\n",
    "    S[node_index, :, :, 10:30] = soln.y[:16].reshape(4, 4, -1)\n",
    "    I[node_index, :, 10:30] = soln.y[16:20]\n",
    "    R[node_index, 10:30] = soln.y[20]\n",
    "    L[node_index, 10:30] = Lc@soln.y[16:20]\n",
    "    Lpredicted=L[node_index, 10:30]\n",
    "    mse= mean_squared_error(Lpredicted,L_observed[node_index,10:30])\n",
    "    #breakpoint()\n",
    "    return mse\n"
   ]
  },
  {
   "cell_type": "code",
   "execution_count": 5,
   "metadata": {},
   "outputs": [],
   "source": [
    "from scipy.integrate import solve_ivp\n",
    "from scipy.optimize import fmin\n",
    "from sklearn.metrics import mean_squared_error\n",
    "\n",
    "Svc_0_PMF /= Svc_0_PMF.sum(axis=(1, 2), keepdims=True)\n",
    "Svc_0 = (N-Ic_0.sum(axis=1))[:, np.newaxis, np.newaxis]*Svc_0_PMF\n",
    "Svc_0 = Svc_0.round().astype(int)\n",
    "R0 = np.zeros((nb_nodes)).astype(int)\n",
    "\n",
    "t = np.linspace(0, 199, 200)\n",
    "\n",
    "S = np.zeros((nb_nodes, 4, 4, len(t)))\n",
    "I = np.zeros((nb_nodes, 4, len(t)))\n",
    "R = np.zeros((nb_nodes, len(t)))\n",
    "L = np.zeros((nb_nodes, len(t)))\n",
    "\n",
    "for N_node, node_index in zip(N, range(nb_nodes)):\n",
    "\n",
    "    initial_conditions = np.concatenate((Svc_0[node_index].flatten(), Ic_0[node_index], [R0[node_index]]))\n",
    "\n",
    "    soln = solve_ivp(SIR, (t[0], t[9]), initial_conditions, args=(N_node, beta_old, gamma), t_eval=t[:10])\n",
    "\n",
    "    S[node_index, :, :, :10] = soln.y[:16].reshape(4, 4, -1)\n",
    "    I[node_index, :, :10] = soln.y[16:20]\n",
    "    R[node_index, :10] = soln.y[20]\n",
    "    L[node_index, :10] = Lc@soln.y[16:20]\n",
    "\n",
    "\n",
    "alpha_predicted = np.zeros((nb_nodes))\n",
    "\n"
   ]
  },
  {
   "cell_type": "code",
   "execution_count": 6,
   "metadata": {},
   "outputs": [],
   "source": [
    "for N_node, node_index in zip(N, range(nb_nodes)):\n",
    "    alpha_predicted[node_index] = fmin(loss_func, 0.5,args=(node_index,N_node,),disp=False)\n",
    "    #breakpoint()\n"
   ]
  },
  {
   "cell_type": "code",
   "execution_count": 7,
   "metadata": {},
   "outputs": [],
   "source": [
    "dsort=np.argsort(alpha_predicted)"
   ]
  },
  {
   "cell_type": "code",
   "execution_count": 8,
   "metadata": {},
   "outputs": [
    {
     "name": "stdout",
     "output_type": "stream",
     "text": [
      "MSE 1.4815449857576764e-05\n",
      "Alpha 0.23352203369140603\n"
     ]
    }
   ],
   "source": [
    "q=alpha_predicted[0]\n",
    "a=loss_func(q,0,N[0])\n",
    "print(\"MSE\",a)\n",
    "print(\"Alpha\",q)"
   ]
  },
  {
   "cell_type": "code",
   "execution_count": 9,
   "metadata": {},
   "outputs": [
    {
     "name": "stdout",
     "output_type": "stream",
     "text": [
      "Nodes ranked by how high theyre alphas is [14 50 96 69 70 25 37 90 33 54 19 43  9 56 16 66 79 95  5 51 27 13 49  2\n",
      " 93  0 15 48 44 98 92 64 53 20 58 86 84 10 61 38 72 75 30 31 85 21 23 12\n",
      " 47 11 52 71 80 24 62 91  7  6 83 60 26 78  8 32  1 36 74 40 63 67 42 45\n",
      " 41 94 73 68 28 22 81 89 65 57 87 17 59 76 18 34 35 77 55 29  4 99 46 82\n",
      "  3 39 97 88]\n",
      "The sorted alphas [[0.13437347 0.14959717 0.15996704 0.16158829 0.16303711 0.16851807\n",
      "  0.17086182 0.17155762 0.17612305 0.17961426 0.18221436 0.18603516\n",
      "  0.18708496 0.19025879 0.20031738 0.20330505 0.20419922 0.20612793\n",
      "  0.20684509 0.2128418  0.21408691 0.2162323  0.21859131 0.22739868\n",
      "  0.23042603 0.23352203 0.24160156 0.24464111 0.24894104 0.2512085\n",
      "  0.25798035 0.25991821 0.26757812 0.26948242 0.27169952 0.27301636\n",
      "  0.28005524 0.28283691 0.28662109 0.28800049 0.2930542  0.2992981\n",
      "  0.29938965 0.30321045 0.30422821 0.30437622 0.30966797 0.31420898\n",
      "  0.32382202 0.32966309 0.32988281 0.33074341 0.33313293 0.33355408\n",
      "  0.3498291  0.35234375 0.35657654 0.35756836 0.35844421 0.36207275\n",
      "  0.36960449 0.37071838 0.37946777 0.38393707 0.3860054  0.39033203\n",
      "  0.40922546 0.41445923 0.41787415 0.41876221 0.42476196 0.43441162\n",
      "  0.43756104 0.44871826 0.44996338 0.45647888 0.47091064 0.48616943\n",
      "  0.5023941  0.50705566 0.50830688 0.52108459 0.53604736 0.55296021\n",
      "  0.55423279 0.56279297 0.58077087 0.59567566 0.63848572 0.64515076\n",
      "  0.65092468 0.66050568 0.67788391 0.68381958 0.69438477 0.69835815\n",
      "  0.70975647 0.86357422 0.92822266 0.95327148]]\n"
     ]
    }
   ],
   "source": [
    "sorted_alphas=np.array([alpha_predicted])\n",
    "sorted_alphas.sort()\n",
    "print(\"Nodes ranked by how high theyre alphas is\",dsort)\n",
    "print(\"The sorted alphas\",sorted_alphas)"
   ]
  },
  {
   "cell_type": "markdown",
   "metadata": {},
   "source": [
    "## (b)"
   ]
  },
  {
   "cell_type": "code",
   "execution_count": 10,
   "metadata": {},
   "outputs": [],
   "source": [
    "sorted_alphas=sorted_alphas.flatten()\n"
   ]
  },
  {
   "cell_type": "code",
   "execution_count": 11,
   "metadata": {},
   "outputs": [],
   "source": [
    "def before_alph(alpha):\n",
    "    totalbfNPI=[]\n",
    "    for old_index , node_index in zip(dsort,range(nb_nodes)):#dsort is the alphas ranked\n",
    "        #breakpoint\n",
    "        initial_conditions = np.concatenate((S[old_index,:,:,29].flatten(), I[old_index,:,29], [R[old_index,29]]))\n",
    "        soln = solve_ivp(SIR1, (t[30], t[-1]), initial_conditions, args=(N[old_index], beta_old, gamma,alpha[node_index]), t_eval=t[30:200])\n",
    "        #breakpoint\n",
    "        R[node_index, 30:200] = soln.y[20]\n",
    "        total=R[node_index,-1].sum()\n",
    "        totalbfNPI.append(total)\n",
    "       \n",
    "    #breakpoint()\n",
    "    \n",
    "    return totalbfNPI\n",
    "\n",
    "totalbfNPI1=before_alph(sorted_alphas)\n"
   ]
  },
  {
   "cell_type": "code",
   "execution_count": 12,
   "metadata": {},
   "outputs": [
    {
     "name": "stdout",
     "output_type": "stream",
     "text": [
      "(100, 4, 4, 200)\n"
     ]
    }
   ],
   "source": [
    "def g(money):\n",
    "    alpha = 1/np.log2(2*10**(-3)*money+2)\n",
    "    return alpha\n",
    "\n",
    "def g_inv(alpha):\n",
    "    money = (2**(1/alpha)-2)/(2*10**(-3))\n",
    "    return money\n",
    "import matplotlib.pyplot as plt \n",
    "\n",
    "def scatter_plot(alpha_afterNPI):\n",
    "    plt.figure()\n",
    "    colors=(beta_old[np.newaxis,:,:]*Svc_0_PMF).mean(axis=(1,2))\n",
    "    plt.scatter(sorted_alphas,alpha_afterNPI, s=N/500, c=colors, cmap='jet', alpha=0.5)\n",
    "    plt.xlabel(r\"$\\alpha_{own}$\")\n",
    "    plt.ylabel(r\"$\\alpha_{after\\ NPI}$\")\n",
    "    #plt.axis([0, 1, 0, 1])\n",
    "\n",
    "\n",
    "S1 = np.zeros((nb_nodes, 4, 4, len(t)))\n",
    "R1 = np.zeros((nb_nodes, len(t)))\n",
    "print(S1.shape)\n",
    "def total_recovered_difference(alpha_afterNPI):\n",
    "    #dif=0\n",
    "    totalafNPI=[]\n",
    "    dif=0\n",
    "    for old_index , node_index in zip(dsort,range(nb_nodes)):#dsort is the alphas ranked \n",
    "        initial_conditions = np.concatenate((S[old_index,:,:,29].flatten(), I[old_index,:,29], [R[old_index,29]]))\n",
    "        soln1= solve_ivp(SIR1, (t[30], t[199]), initial_conditions, args=(N[old_index], beta_old, gamma,alpha_afterNPI[node_index]), t_eval=t[30:200])\n",
    "       \n",
    "\n",
    "        \n",
    "        R1[node_index, 30:200] = soln1.y[20]\n",
    "        total1=R1[node_index,-1].sum()\n",
    "        totalafNPI.append(total1)\n",
    "    for row in range(nb_nodes):\n",
    "        dif+= -totalafNPI[row]+totalbfNPI1[row]\n",
    "        #difference.append(dif)\n",
    "        #a=difference.sum()\n",
    "            \n",
    "    \n",
    "    \n",
    "    \n",
    "    return dif \n"
   ]
  },
  {
   "cell_type": "markdown",
   "metadata": {},
   "source": [
    "### Policy #1"
   ]
  },
  {
   "cell_type": "code",
   "execution_count": 13,
   "metadata": {},
   "outputs": [],
   "source": [
    "#i.\n",
    "A1=[]\n",
    "Newmoney=[]\n",
    "for r in dsort: #dsort is the alphas ranked\n",
    "    n=g_inv(alpha_predicted[r])\n",
    "    nm=n+10000\n",
    "    An=g(nm)\n",
    "    m=g_inv(An)\n",
    "    A1.append(An)\n",
    "    Newmoney.append(m)\n",
    "\n",
    "    "
   ]
  },
  {
   "cell_type": "code",
   "execution_count": 14,
   "metadata": {},
   "outputs": [
    {
     "data": {
      "image/png": "[encoded data removed]",
      "text/plain": [
       "<Figure size 432x288 with 1 Axes>"
      ]
     },
     "metadata": {
      "needs_background": "light"
     },
     "output_type": "display_data"
    }
   ],
   "source": [
    "scatter_plot(A1)"
   ]
  },
  {
   "cell_type": "code",
   "execution_count": 57,
   "metadata": {},
   "outputs": [
    {
     "name": "stdout",
     "output_type": "stream",
     "text": [
      "the total recovered difference after 200 days is 320303.9170014543\n"
     ]
    }
   ],
   "source": [
    "#ii\n",
    "print(\"the total recovered difference after 200 days is\",total_recovered_difference(A1))"
   ]
  },
  {
   "cell_type": "markdown",
   "metadata": {},
   "source": [
    "### Policy #2"
   ]
  },
  {
   "cell_type": "code",
   "execution_count": 63,
   "metadata": {},
   "outputs": [
    {
     "data": {
      "text/plain": [
       "14172.517705220987"
      ]
     },
     "execution_count": 63,
     "metadata": {},
     "output_type": "execute_result"
    }
   ],
   "source": [
    "nsum=N.sum()\n",
    "\n",
    "alpha_predicted[14]\n",
    "N_percent[14]*1000000"
   ]
  },
  {
   "cell_type": "code",
   "execution_count": 64,
   "metadata": {},
   "outputs": [],
   "source": [
    "#i\n",
    "N_percent=N/nsum\n",
    "money=[]\n",
    "for r in dsort:\n",
    "    money.append(N_percent[r]*1000000)\n",
    "\n",
    "A2=[]\n",
    "Newmoney=[]\n",
    "for index,old_index in enumerate(dsort): #dsort is the ranked nodes \n",
    "    n=g_inv(alpha_predicted[old_index])\n",
    "    nm=n+money[index]\n",
    "    An=g(nm)\n",
    "    m=g_inv(An)\n",
    "    A2.append(An)\n",
    "    Newmoney.append(m)\n",
    "    "
   ]
  },
  {
   "cell_type": "code",
   "execution_count": 65,
   "metadata": {},
   "outputs": [
    {
     "data": {
      "image/png": "[encoded data removed]",
      "text/plain": [
       "<Figure size 432x288 with 1 Axes>"
      ]
     },
     "metadata": {
      "needs_background": "light"
     },
     "output_type": "display_data"
    }
   ],
   "source": [
    "#i\n",
    "import matplotlib.pyplot as plt\n",
    "scatter_plot(A2)"
   ]
  },
  {
   "cell_type": "code",
   "execution_count": 66,
   "metadata": {},
   "outputs": [
    {
     "name": "stdout",
     "output_type": "stream",
     "text": [
      "the total recovered difference after 200 days is 335849.7804062386\n"
     ]
    }
   ],
   "source": [
    "#ii\n",
    "print(\"the total recovered difference after 200 days is\",total_recovered_difference(A2))"
   ]
  },
  {
   "cell_type": "markdown",
   "metadata": {},
   "source": [
    "### Policy #3"
   ]
  },
  {
   "cell_type": "code",
   "execution_count": 51,
   "metadata": {},
   "outputs": [],
   "source": [
    "from scipy import optimize\n",
    "\n",
    "def policy_3(change_alpha):\n",
    "    diff=0\n",
    "    for alpha in alpha_predicted:\n",
    "        diff+= g_inv(alpha-change_alpha) - g_inv(alpha)\n",
    "    \n",
    "    return (diff-1000000)**2 \n",
    "\n",
    "change_alpha=fmin(policy_3,.1,disp=False)\n",
    "\n",
    "\n",
    "cg_alpha=np.zeros((nb_nodes))       \n",
    "\n",
    "i=0\n",
    "\n",
    "for r in dsort:\n",
    "    cg_alpha[i] = alpha_predicted[r]-change_alpha\n",
    "    i+=1"
   ]
  },
  {
   "cell_type": "code",
   "execution_count": 22,
   "metadata": {},
   "outputs": [
    {
     "data": {
      "image/png": "[encoded data removed]",
      "text/plain": [
       "<Figure size 432x288 with 1 Axes>"
      ]
     },
     "metadata": {
      "needs_background": "light"
     },
     "output_type": "display_data"
    }
   ],
   "source": [
    "#i\n",
    "scatter_plot(cg_alpha)"
   ]
  },
  {
   "cell_type": "code",
   "execution_count": 55,
   "metadata": {},
   "outputs": [
    {
     "name": "stdout",
     "output_type": "stream",
     "text": [
      "the total recovered difference after 200 days is 62720.86363449589\n"
     ]
    }
   ],
   "source": [
    "#ii\n",
    "print(\"the total recovered difference after 200 days is\",total_recovered_difference(cg_alpha))"
   ]
  },
  {
   "cell_type": "markdown",
   "metadata": {},
   "source": [
    "### Policy #4 \n",
    "Spend the budget proportional to each node’s average beta value weighted by the susceptible\n",
    "population size in comorbidity and vulnerability compartments"
   ]
  },
  {
   "cell_type": "code",
   "execution_count": 26,
   "metadata": {},
   "outputs": [
    {
     "data": {
      "text/plain": [
       "691.275"
      ]
     },
     "execution_count": 26,
     "metadata": {},
     "output_type": "execute_result"
    }
   ],
   "source": [
    "((Svc_0[0]*beta_old).sum())/16"
   ]
  },
  {
   "cell_type": "code",
   "execution_count": 67,
   "metadata": {},
   "outputs": [],
   "source": [
    "svcTbeta=[]\n",
    "for a in range(nb_nodes):\n",
    "    svcTbeta.append(((Svc_0[a]*beta_old).sum())/16)\n",
    "total=sum(svcTbeta)\n",
    "percentage=(svcTbeta/total)"
   ]
  },
  {
   "cell_type": "code",
   "execution_count": 48,
   "metadata": {},
   "outputs": [],
   "source": [
    "#i\n",
    "A4=[]\n",
    "i=0\n",
    "for r in dsort: #dsort is the ranked nodes \n",
    "    n=g_inv(alpha_predicted[r])\n",
    "    nm=n+1000000*percentage[i]\n",
    "    An=g(nm)\n",
    "    m=g_inv(An)\n",
    "    A4.append(An)\n",
    "    Newmoney.append(m)\n",
    "    i+=1\n"
   ]
  },
  {
   "cell_type": "code",
   "execution_count": 68,
   "metadata": {},
   "outputs": [
    {
     "data": {
      "image/png": "[encoded data removed]",
      "text/plain": [
       "<Figure size 432x288 with 1 Axes>"
      ]
     },
     "metadata": {
      "needs_background": "light"
     },
     "output_type": "display_data"
    }
   ],
   "source": [
    "scatter_plot(A4)"
   ]
  },
  {
   "cell_type": "code",
   "execution_count": 69,
   "metadata": {},
   "outputs": [
    {
     "name": "stdout",
     "output_type": "stream",
     "text": [
      "the total recovered difference after 200 days is 304529.22814082005\n"
     ]
    }
   ],
   "source": [
    "#ii. \n",
    "print(\"the total recovered difference after 200 days is\",total_recovered_difference(A4))"
   ]
  },
  {
   "cell_type": "markdown",
   "metadata": {},
   "source": [
    "## (c)"
   ]
  },
  {
   "cell_type": "markdown",
   "metadata": {},
   "source": [
    "### Policy 1"
   ]
  },
  {
   "cell_type": "markdown",
   "metadata": {},
   "source": [
    "### Policy 2"
   ]
  },
  {
   "cell_type": "markdown",
   "metadata": {},
   "source": [
    "### Policy 3"
   ]
  },
  {
   "cell_type": "markdown",
   "metadata": {},
   "source": [
    "### Policy 4"
   ]
  }
 ],
 "metadata": {
  "kernelspec": {
   "display_name": "Python 3",
   "language": "python",
   "name": "python3"
  },
  "language_info": {
   "codemirror_mode": {
    "name": "ipython",
    "version": 3
   },
   "file_extension": ".py",
   "mimetype": "text/x-python",
   "name": "python",
   "nbconvert_exporter": "python",
   "pygments_lexer": "ipython3",
   "version": "3.8.3"
  }
 },
 "nbformat": 4,
 "nbformat_minor": 2
}
