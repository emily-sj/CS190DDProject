{
 "cells": [
  {
   "cell_type": "markdown",
   "metadata": {},
   "source": [
    "# Project Part 2 Solutions"
   ]
  },
  {
   "cell_type": "markdown",
   "metadata": {},
   "source": [
    "## (a)"
   ]
  },
  {
   "cell_type": "code",
   "execution_count": 95,
   "metadata": {},
   "outputs": [
    {
     "data": {
      "text/plain": [
       "array([2675.53744575, 2863.85791226, 3057.14728014, 3253.88149391,\n",
       "       3452.04620117, 3649.7173123 , 3845.06100045, 4036.33370153,\n",
       "       4221.88211425, 4400.14320005, 4569.64418319, 4729.00255065,\n",
       "       4876.92605222, 5012.21270045, 5133.75077065, 5240.51880092,\n",
       "       5331.58559212, 5406.11020788, 5463.63596652])"
      ]
     },
     "execution_count": 95,
     "metadata": {},
     "output_type": "execute_result"
    }
   ],
   "source": [
    "import numpy as np\n",
    "\n",
    "file=np.load(\"part2.npz\")\n",
    "beta_old=file['beta_old']\n",
    "N=file['N']\n",
    "Svc_0_PMF=file['Svc_0_PMF']\n",
    "Lc=file['Lc']\n",
    "Ic_0=file['Ic_0']\n",
    "gamma=file['gamma']\n",
    "L_observed=file['L_observed']\n",
    "nb_nodes = Svc_0_PMF.shape[0]\n",
    "file.files\n",
    "Svc_0_PMF.shape[1]\n"
   ]
  },
  {
   "cell_type": "code",
   "execution_count": 52,
   "metadata": {},
   "outputs": [],
   "source": [
    "def SIR(t, Z, N, betas, gamma):\n",
    "    (S_vec, I_vec, R) = (Z[:16].reshape(4, 4), Z[16:20], Z[-1])\n",
    "    I = I_vec.sum()\n",
    "    dSdt = -betas*S_vec*I/N \n",
    "    dIdt = -dSdt.sum(axis=0)-gamma*I_vec\n",
    "    dRdt = np.array([gamma*I])\n",
    "    return np.concatenate((dSdt.flatten(), dIdt, dRdt))"
   ]
  },
  {
   "cell_type": "code",
   "execution_count": 85,
   "metadata": {},
   "outputs": [],
   "source": [
    "def SIR1(t, Z, N, betas, gamma,alpha):\n",
    "    (S_vec, I_vec, R) = (Z[:16].reshape(4, 4), Z[16:20], Z[-1])\n",
    "    I = I_vec.sum()\n",
    "    dSdt = -(betas*alpha)*S_vec*I/N \n",
    "    dIdt = -dSdt.sum(axis=0)-gamma*I_vec\n",
    "    dRdt = np.array([gamma*I])\n",
    "    return np.concatenate((dSdt.flatten(), dIdt, dRdt))"
   ]
  },
  {
   "cell_type": "code",
   "execution_count": 172,
   "metadata": {},
   "outputs": [
    {
     "data": {
      "text/plain": [
       "0.0"
      ]
     },
     "execution_count": 172,
     "metadata": {},
     "output_type": "execute_result"
    }
   ],
   "source": [
    "from scipy.integrate import solve_ivp\n",
    "from scipy.optimize import fmin\n",
    "from sklearn.metrics import mean_squared_error\n",
    "\n",
    "Svc_0_PMF /= Svc_0_PMF.sum(axis=(1, 2), keepdims=True)\n",
    "Svc_0 = (N-Ic_0.sum(axis=1))[:, np.newaxis, np.newaxis]*Svc_0_PMF\n",
    "Svc_0 = Svc_0.round().astype(int)\n",
    "R0 = np.zeros((nb_nodes)).astype(int)\n",
    "\n",
    "t = np.linspace(0, 199, 200)\n",
    "\n",
    "S = np.zeros((nb_nodes, 4, 4, len(t)))\n",
    "I = np.zeros((nb_nodes, 4, len(t)))\n",
    "R = np.zeros((nb_nodes, len(t)))\n",
    "L = np.zeros((nb_nodes, len(t)))\n",
    "\n",
    "for N_node, node_index in zip(N, range(nb_nodes)):\n",
    "\n",
    "    initial_conditions = np.concatenate((Svc_0[node_index].flatten(), Ic_0[node_index], [R0[node_index]]))\n",
    "\n",
    "    soln = solve_ivp(SIR, (t[0], t[9]), initial_conditions, args=(N_node, beta_old, gamma), t_eval=t[:10])\n",
    "\n",
    "    S[node_index, :, :, :10] = soln.y[:16].reshape(4, 4, -1)\n",
    "    I[node_index, :, :10] = soln.y[16:20]\n",
    "    R[node_index, :10] = soln.y[20]\n",
    "    L[node_index, :10] = Lc@soln.y[16:20]\n",
    "\n",
    "\n",
    "alpha_predited = np.zeros((nb_nodes))\n",
    "R[0,10]"
   ]
  },
  {
   "cell_type": "code",
   "execution_count": 119,
   "metadata": {},
   "outputs": [
    {
     "name": "stdout",
     "output_type": "stream",
     "text": [
      "MSE 302293.3535004411\n",
      "Alpha 0.13436424411240122\n",
      "MSE 4338027.6511953045\n",
      "Alpha 0.8474337369372327\n",
      "MSE 1962040.3199373363\n",
      "Alpha 0.763774618976614\n",
      "MSE 240511.94259732316\n",
      "Alpha 0.2550690257394217\n",
      "MSE 118775.2346163661\n",
      "Alpha 0.49543508709194095\n",
      "MSE 123354.85458910096\n",
      "Alpha 0.4494910647887381\n",
      "MSE 526708.097909129\n",
      "Alpha 0.651592972722763\n",
      "MSE 2528231.7598376563\n",
      "Alpha 0.7887233511355132\n",
      "MSE 318309.9474323114\n",
      "Alpha 0.0938595867742349\n",
      "MSE 339931.16980751656\n",
      "Alpha 0.02834747652200631\n"
     ]
    }
   ],
   "source": [
    "from random import seed\n",
    "from random import random\n",
    "def loss_func(alpha,node_index):\n",
    "    initial_conditions = np.concatenate((Svc_0[node_index].flatten(), Ic_0[node_index], [R0[node_index]]))\n",
    "    soln = solve_ivp(SIR1, (t[10], t[29]), initial_conditions, args=(N_node, beta_old, gamma,alpha), t_eval=t[10:29])\n",
    "\n",
    "    S[node_index, :, :, 10:29] = soln.y[:16].reshape(4, 4, -1)\n",
    "    I[node_index, :, 10:29] = soln.y[16:20]\n",
    "    R[node_index, 10:29] = soln.y[20]\n",
    "    L[node_index, 10:29] = Lc@soln.y[16:20]\n",
    "    Lpredicted=L[node_index, 10:29]\n",
    "    mse= mean_squared_error(Lpredicted,L_observed[node_index,10:29])\n",
    "    #breakpoint()\n",
    "    return mse\n",
    "\n",
    "\n",
    "#seed(1)\n",
    "#for x in range (10):\n",
    "    #q=random()\n",
    "    #a=loss_func(q,30)\n",
    "    #print(\"MSE\",a)\n",
    "    #print(\"Alpha\",q)\n",
    "\n",
    "\n",
    "\n",
    "#for N_node, node_index in zip(N, range(nb_nodes)):\n",
    "    #alpha_predicted[node_index] = fmin(loss_func, 0.5, disp=False)\n"
   ]
  },
  {
   "cell_type": "code",
   "execution_count": 268,
   "metadata": {},
   "outputs": [
    {
     "data": {
      "text/plain": [
       "0.22669982910156228"
      ]
     },
     "execution_count": 268,
     "metadata": {},
     "output_type": "execute_result"
    }
   ],
   "source": [
    "alpha_predicted[0]\n"
   ]
  },
  {
   "cell_type": "code",
   "execution_count": 267,
   "metadata": {},
   "outputs": [],
   "source": [
    "for N_node, node_index in zip(N, range(nb_nodes)):\n",
    "    alpha_predicted[node_index] = fmin(loss_func, 0.5,args=(node_index,N_node,),disp=False)\n",
    "    #breakpoint()\n"
   ]
  },
  {
   "cell_type": "code",
   "execution_count": 273,
   "metadata": {},
   "outputs": [
    {
     "name": "stdout",
     "output_type": "stream",
     "text": [
      "MSE 9120.570346529019\n",
      "Alpha 0.1424926757812497\n",
      "Nodes ranked by how high theyre alphas is [0.12352142 0.13822021 0.14249268 0.14443359 0.14606934 0.14807129\n",
      " 0.15137939 0.15171814 0.1552803  0.16387329 0.16503143 0.16713867\n",
      " 0.17045288 0.17644043 0.18051758 0.19622192 0.20018311 0.20029602\n",
      " 0.20103149 0.20452881 0.20931396 0.20965576 0.21018066 0.22185059\n",
      " 0.22246094 0.22650146 0.22669983 0.23173828 0.23728027 0.24645996\n",
      " 0.24889221 0.25011292 0.25706787 0.26390381 0.26639404 0.26811523\n",
      " 0.27178955 0.27543945 0.27561264 0.27568665 0.28189697 0.28358765\n",
      " 0.28780823 0.2932373  0.29797363 0.3010498  0.30296936 0.31580811\n",
      " 0.32045898 0.3225708  0.32358704 0.33059082 0.330896   0.33418884\n",
      " 0.33525391 0.33642883 0.34067383 0.35007172 0.35155029 0.35754395\n",
      " 0.3601532  0.36387939 0.37408447 0.3757782  0.38779907 0.39297028\n",
      " 0.39484253 0.41170807 0.41690369 0.41756592 0.42473755 0.43126221\n",
      " 0.43154907 0.44144897 0.44838867 0.45488892 0.46865234 0.49281006\n",
      " 0.51626587 0.51790771 0.52313232 0.53582764 0.54241028 0.56386719\n",
      " 0.56835938 0.56982422 0.59924927 0.61907349 0.66160202 0.66409302\n",
      " 0.66747131 0.68422394 0.69208984 0.70143738 0.71300049 0.72009888\n",
      " 0.73707123 0.89589844 0.90992126 0.98475342]\n"
     ]
    }
   ],
   "source": [
    "q=alpha_predicted[2]\n",
    "a=loss_func(q,2,N[2])\n",
    "print(\"MSE\",a)\n",
    "print(\"Alpha\",q)\n",
    "sorted_alphas=alpha_predicted\n",
    "sorted_alphas.sort()\n",
    "print(\"Nodes ranked by how high theyre alphas is\",sorted_alphas)"
   ]
  },
  {
   "cell_type": "code",
   "execution_count": 242,
   "metadata": {},
   "outputs": [],
   "source": [
    "from random import seed\n",
    "from random import random\n",
    "def loss_func(alpha,node_index,N):\n",
    "    initial_conditions = np.concatenate((S[node_index,:,:,9].flatten(), I[node_index,:,9], [R[node_index,9]]))\n",
    "    soln = solve_ivp(SIR1, (t[10], t[29]), initial_conditions, args=(N, beta_old, gamma,alpha), t_eval=t[10:30])\n",
    "\n",
    "    S[node_index, :, :, 10:30] = soln.y[:16].reshape(4, 4, -1)\n",
    "    I[node_index, :, 10:30] = soln.y[16:20]\n",
    "    R[node_index, 10:30] = soln.y[20]\n",
    "    L[node_index, 10:30] = Lc@soln.y[16:20]\n",
    "    Lpredicted=L[node_index, 10:30]\n",
    "    mse= mean_squared_error(Lpredicted,L_observed[node_index,10:30])\n",
    "    #breakpoint()\n",
    "    return mse\n"
   ]
  },
  {
   "cell_type": "markdown",
   "metadata": {},
   "source": [
    "## (b)"
   ]
  },
  {
   "cell_type": "code",
   "execution_count": 28,
   "metadata": {},
   "outputs": [
    {
     "name": "stdout",
     "output_type": "stream",
     "text": [
      "0.21361713586069922\n"
     ]
    }
   ],
   "source": [
    "n=g_inv(A0[39])\n",
    "nm=n+10000\n",
    "m=g(nm)\n",
    "An=g_inv(m)\n",
    "print(m)"
   ]
  },
  {
   "cell_type": "code",
   "execution_count": 276,
   "metadata": {},
   "outputs": [],
   "source": [
    "def g(money):\n",
    "    alpha = 1/np.log2(2*10**(-3)*money+2)\n",
    "    return alpha\n",
    "\n",
    "def g_inv(alpha):\n",
    "    money = (2**(1/alpha)-2)/(2*10**(-3))\n",
    "    return money\n",
    "    import matplotlib.pyplot as plt \n",
    "\n",
    "def scatter_plot(alpha_afterNPI):\n",
    "    plt.figure()\n",
    "    colors=(beta_old[np.newaxis,:,:]*Svc_0_PMF).mean(axis=(1,2))\n",
    "    plt.scatter(sorted_alphas,A1, s=N/500, c=colors, cmap='jet', alpha=0.5)\n",
    "    plt.xlabel(r\"$\\alpha_{own}$\")\n",
    "    plt.ylabel(r\"$\\alpha_{after\\ NPI}$\")\n",
    "    #plt.axis([0, 1, 0, 1])\n",
    "def total_recovered_difference(alpha_afterNPI):\n",
    "    \n",
    "    \n",
    "    \n",
    "    return difference"
   ]
  },
  {
   "cell_type": "markdown",
   "metadata": {},
   "source": [
    "### Policy #1"
   ]
  },
  {
   "cell_type": "code",
   "execution_count": 305,
   "metadata": {},
   "outputs": [],
   "source": [
    "#i.\n",
    "A1=[]\n",
    "Newmoney=[]\n",
    "for r in range(100):\n",
    "    n=g_inv(sorted_alphas[r])\n",
    "    nm=n+10000\n",
    "    An=g(nm)\n",
    "    m=g_inv(An)\n",
    "    A1.append(An)\n",
    "    Newmoney.append(m)\n"
   ]
  },
  {
   "cell_type": "code",
   "execution_count": 280,
   "metadata": {},
   "outputs": [
    {
     "data": {
      "image/png": "[encoded data removed]",
      "text/plain": [
       "<Figure size 432x288 with 1 Axes>"
      ]
     },
     "metadata": {
      "needs_background": "light"
     },
     "output_type": "display_data"
    }
   ],
   "source": [
    "import matplotlib.pyplot as plt\n",
    "scatter_plot(A1)"
   ]
  },
  {
   "cell_type": "code",
   "execution_count": null,
   "metadata": {},
   "outputs": [],
   "source": [
    "#ii"
   ]
  },
  {
   "cell_type": "markdown",
   "metadata": {},
   "source": [
    "### Policy #2"
   ]
  },
  {
   "cell_type": "code",
   "execution_count": 304,
   "metadata": {},
   "outputs": [],
   "source": [
    "#i\n",
    "N_percent=N/2714267.352274217\n",
    "money=N_percent*1000000\n",
    "A2=[]\n",
    "Newmoney=[]\n",
    "for r in range(100):\n",
    "    n=g_inv(sorted_alphas[r])\n",
    "    nm=n+money[r]\n",
    "    An=g(nm)\n",
    "    m=g_inv(An)\n",
    "    A2.append(An)\n",
    "    Newmoney.append(m)"
   ]
  },
  {
   "cell_type": "code",
   "execution_count": 303,
   "metadata": {},
   "outputs": [
    {
     "data": {
      "image/png": "[encoded data removed]",
      "text/plain": [
       "<Figure size 432x288 with 1 Axes>"
      ]
     },
     "metadata": {
      "needs_background": "light"
     },
     "output_type": "display_data"
    }
   ],
   "source": [
    "import matplotlib.pyplot as plt\n",
    "scatter_plot(A2)"
   ]
  },
  {
   "cell_type": "markdown",
   "metadata": {},
   "source": [
    "ii."
   ]
  },
  {
   "cell_type": "markdown",
   "metadata": {},
   "source": [
    "### Policy #3"
   ]
  },
  {
   "cell_type": "markdown",
   "metadata": {},
   "source": [
    "i."
   ]
  },
  {
   "cell_type": "markdown",
   "metadata": {},
   "source": [
    "ii."
   ]
  },
  {
   "cell_type": "markdown",
   "metadata": {},
   "source": [
    "### Policy #4"
   ]
  },
  {
   "cell_type": "markdown",
   "metadata": {},
   "source": [
    "i."
   ]
  },
  {
   "cell_type": "markdown",
   "metadata": {},
   "source": [
    "ii."
   ]
  },
  {
   "cell_type": "markdown",
   "metadata": {},
   "source": [
    "## (c)"
   ]
  },
  {
   "cell_type": "markdown",
   "metadata": {},
   "source": [
    "### Policy 1"
   ]
  },
  {
   "cell_type": "markdown",
   "metadata": {},
   "source": [
    "### Policy 2"
   ]
  },
  {
   "cell_type": "markdown",
   "metadata": {},
   "source": [
    "### Policy 3"
   ]
  },
  {
   "cell_type": "markdown",
   "metadata": {},
   "source": [
    "### Policy 4"
   ]
  }
 ],
 "metadata": {
  "kernelspec": {
   "display_name": "Python 3",
   "language": "python",
   "name": "python3"
  },
  "language_info": {
   "codemirror_mode": {
    "name": "ipython",
    "version": 3
   },
   "file_extension": ".py",
   "mimetype": "text/x-python",
   "name": "python",
   "nbconvert_exporter": "python",
   "pygments_lexer": "ipython3",
   "version": "3.8.3"
  }
 },
 "nbformat": 4,
 "nbformat_minor": 2
}
