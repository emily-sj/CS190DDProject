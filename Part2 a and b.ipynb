{
 "cells": [
  {
   "cell_type": "markdown",
   "metadata": {},
   "source": [
    "# Project Part 2 Solutions"
   ]
  },
  {
   "cell_type": "markdown",
   "metadata": {},
   "source": [
    "## (a)"
   ]
  },
  {
   "cell_type": "code",
   "execution_count": 122,
   "metadata": {},
   "outputs": [
    {
     "data": {
      "text/plain": [
       "4"
      ]
     },
     "execution_count": 122,
     "metadata": {},
     "output_type": "execute_result"
    }
   ],
   "source": [
    "import numpy as np\n",
    "\n",
    "file=np.load(\"part2.npz\")\n",
    "beta_old=file['beta_old']\n",
    "N=file['N']\n",
    "Svc_0_PMF=file['Svc_0_PMF']\n",
    "Lc=file['Lc']\n",
    "Ic_0=file['Ic_0']\n",
    "gamma=file['gamma']\n",
    "L_observed=file['L_observed']\n",
    "nb_nodes = Svc_0_PMF.shape[0]\n",
    "file.files\n",
    "Svc_0_PMF.shape[1]\n"
   ]
  },
  {
   "cell_type": "code",
   "execution_count": 123,
   "metadata": {},
   "outputs": [],
   "source": [
    "def SIR(t, Z, N, betas, gamma):\n",
    "    (S_vec, I_vec, R) = (Z[:16].reshape(4, 4), Z[16:20], Z[-1])\n",
    "    I = I_vec.sum()\n",
    "    dSdt = -betas*S_vec*I/N \n",
    "    dIdt = -dSdt.sum(axis=0)-gamma*I_vec\n",
    "    dRdt = np.array([gamma*I])\n",
    "    return np.concatenate((dSdt.flatten(), dIdt, dRdt))"
   ]
  },
  {
   "cell_type": "code",
   "execution_count": 124,
   "metadata": {},
   "outputs": [],
   "source": [
    "def SIR1(t, Z, N, betas, gamma,alpha):\n",
    "    (S_vec, I_vec, R) = (Z[:16].reshape(4, 4), Z[16:20], Z[-1])\n",
    "    I = I_vec.sum()\n",
    "    dSdt = -(betas*alpha)*S_vec*I/N \n",
    "    dIdt = -dSdt.sum(axis=0)-gamma*I_vec\n",
    "    dRdt = np.array([gamma*I])\n",
    "    return np.concatenate((dSdt.flatten(), dIdt, dRdt))"
   ]
  },
  {
   "cell_type": "code",
   "execution_count": 231,
   "metadata": {},
   "outputs": [
    {
     "data": {
      "text/plain": [
       "0.0"
      ]
     },
     "execution_count": 231,
     "metadata": {},
     "output_type": "execute_result"
    }
   ],
   "source": [
    "from scipy.integrate import solve_ivp\n",
    "from scipy.optimize import fmin\n",
    "from sklearn.metrics import mean_squared_error\n",
    "\n",
    "Svc_0_PMF /= Svc_0_PMF.sum(axis=(1, 2), keepdims=True)\n",
    "Svc_0 = (N-Ic_0.sum(axis=1))[:, np.newaxis, np.newaxis]*Svc_0_PMF\n",
    "Svc_0 = Svc_0.round().astype(int)\n",
    "R0 = np.zeros((nb_nodes)).astype(int)\n",
    "\n",
    "t = np.linspace(0, 199, 200)\n",
    "\n",
    "S = np.zeros((nb_nodes, 4, 4, len(t)))\n",
    "I = np.zeros((nb_nodes, 4, len(t)))\n",
    "R = np.zeros((nb_nodes, len(t)))\n",
    "L = np.zeros((nb_nodes, len(t)))\n",
    "\n",
    "for N_node, node_index in zip(N, range(nb_nodes)):\n",
    "\n",
    "    initial_conditions = np.concatenate((Svc_0[node_index].flatten(), Ic_0[node_index], [R0[node_index]]))\n",
    "\n",
    "    soln = solve_ivp(SIR, (t[0], t[9]), initial_conditions, args=(N_node, beta_old, gamma), t_eval=t[:10])\n",
    "\n",
    "    S[node_index, :, :, :10] = soln.y[:16].reshape(4, 4, -1)\n",
    "    I[node_index, :, :10] = soln.y[16:20]\n",
    "    R[node_index, :10] = soln.y[20]\n",
    "    L[node_index, :10] = Lc@soln.y[16:20]\n",
    "    #breakpoint()\n",
    "\n",
    "\n",
    "alpha_predited = np.zeros((nb_nodes))\n",
    "R[0,10]"
   ]
  },
  {
   "cell_type": "code",
   "execution_count": 126,
   "metadata": {},
   "outputs": [
    {
     "name": "stdout",
     "output_type": "stream",
     "text": [
      "MSE 214696.2092073958\n",
      "Alpha 0.2962845361031051\n",
      "MSE 147906.21997110773\n",
      "Alpha 0.39858431977072595\n",
      "MSE 118544.72783109997\n",
      "Alpha 0.4941454607201421\n",
      "MSE 185546.19059853905\n",
      "Alpha 0.3402353016144063\n",
      "MSE 251249.43221786394\n",
      "Alpha 0.23680497931696265\n",
      "MSE 1442335.0642876253\n",
      "Alpha 0.7352707920458275\n",
      "MSE 11254459.71246635\n",
      "Alpha 0.9805424943998533\n",
      "MSE 10763587.884813318\n",
      "Alpha 0.9730764979823034\n",
      "MSE 310320.98231061635\n",
      "Alpha 0.11475526065326769\n",
      "MSE 246039.9263657009\n",
      "Alpha 0.24576638113589777\n"
     ]
    }
   ],
   "source": [
    "from random import seed\n",
    "from random import random\n",
    "def loss_func(alpha,node_index):\n",
    "    initial_conditions = np.concatenate((Svc_0[node_index].flatten(), Ic_0[node_index], [R0[node_index]]))\n",
    "    soln = solve_ivp(SIR1, (t[10], t[29]), initial_conditions, args=(N_node, beta_old, gamma,alpha), t_eval=t[10:29])\n",
    "\n",
    "    S[node_index, :, :, 10:29] = soln.y[:16].reshape(4, 4, -1)\n",
    "    I[node_index, :, 10:29] = soln.y[16:20]\n",
    "    R[node_index, 10:29] = soln.y[20]\n",
    "    L[node_index, 10:29] = Lc@soln.y[16:20]\n",
    "    Lpredicted=L[node_index, 10:29]\n",
    "    mse= mean_squared_error(Lpredicted,L_observed[node_index,10:29])\n",
    "    #breakpoint()\n",
    "    return mse\n",
    "\n",
    "\n",
    "#seed(1)\n",
    "for x in range (10):\n",
    "    q=random()\n",
    "    a=loss_func(q,30)\n",
    "    print(\"MSE\",a)\n",
    "    print(\"Alpha\",q)\n",
    "\n",
    "\n",
    "\n",
    "#for N_node, node_index in zip(N, range(nb_nodes)):\n",
    "    #alpha_predicted[node_index] = fmin(loss_func, 0.5, disp=False)\n"
   ]
  },
  {
   "cell_type": "code",
   "execution_count": 127,
   "metadata": {},
   "outputs": [
    {
     "data": {
      "text/plain": [
       "0.12352142333984342"
      ]
     },
     "execution_count": 127,
     "metadata": {},
     "output_type": "execute_result"
    }
   ],
   "source": [
    "alpha_predicted[0]\n"
   ]
  },
  {
   "cell_type": "code",
   "execution_count": 131,
   "metadata": {},
   "outputs": [],
   "source": [
    "for N_node, node_index in zip(N, range(nb_nodes)):\n",
    "    alpha_predicted[node_index] = fmin(loss_func, 0.5,args=(node_index,N_node,),disp=False)\n",
    "    #breakpoint()\n"
   ]
  },
  {
   "cell_type": "code",
   "execution_count": 132,
   "metadata": {},
   "outputs": [
    {
     "name": "stdout",
     "output_type": "stream",
     "text": [
      "MSE 19.98025942448137\n",
      "Alpha 0.22185058593749976\n",
      "Nodes ranked by how high theyre alphas is [0.12352142 0.13822021 0.14249268 0.14443359 0.14606934 0.14807129\n",
      " 0.15137939 0.15171814 0.1552803  0.16387329 0.16503143 0.16713867\n",
      " 0.17045288 0.17644043 0.18051758 0.19622192 0.20018311 0.20029602\n",
      " 0.20103149 0.20452881 0.20931396 0.20965576 0.21018066 0.22185059\n",
      " 0.22246094 0.22650146 0.22669983 0.23173828 0.23728027 0.24645996\n",
      " 0.24889221 0.25011292 0.25706787 0.26390381 0.26639404 0.26811523\n",
      " 0.27178955 0.27543945 0.27561264 0.27568665 0.28189697 0.28358765\n",
      " 0.28780823 0.2932373  0.29797363 0.3010498  0.30296936 0.31580811\n",
      " 0.32045898 0.3225708  0.32358704 0.33059082 0.330896   0.33418884\n",
      " 0.33525391 0.33642883 0.34067383 0.35007172 0.35155029 0.35754395\n",
      " 0.3601532  0.36387939 0.37408447 0.3757782  0.38779907 0.39297028\n",
      " 0.39484253 0.41170807 0.41690369 0.41756592 0.42473755 0.43126221\n",
      " 0.43154907 0.44144897 0.44838867 0.45488892 0.46865234 0.49281006\n",
      " 0.51626587 0.51790771 0.52313232 0.53582764 0.54241028 0.56386719\n",
      " 0.56835938 0.56982422 0.59924927 0.61907349 0.66160202 0.66409302\n",
      " 0.66747131 0.68422394 0.69208984 0.70143738 0.71300049 0.72009888\n",
      " 0.73707123 0.89589844 0.90992126 0.98475342]\n"
     ]
    }
   ],
   "source": [
    "q=alpha_predicted[2]\n",
    "a=loss_func(q,2,N[2])\n",
    "print(\"MSE\",a)\n",
    "print(\"Alpha\",q)\n",
    "sorted_alphas=alpha_predicted\n",
    "sorted_alphas.sort()\n",
    "print(\"Nodes ranked by how high theyre alphas is\",sorted_alphas)"
   ]
  },
  {
   "cell_type": "code",
   "execution_count": 133,
   "metadata": {},
   "outputs": [],
   "source": [
    "from random import seed\n",
    "from random import random\n",
    "def loss_func(alpha,node_index,N):\n",
    "    initial_conditions = np.concatenate((S[node_index,:,:,9].flatten(), I[node_index,:,9], [R[node_index,9]]))\n",
    "    soln = solve_ivp(SIR1, (t[10], t[29]), initial_conditions, args=(N, beta_old, gamma,alpha), t_eval=t[10:30])\n",
    "\n",
    "    S[node_index, :, :, 10:30] = soln.y[:16].reshape(4, 4, -1)\n",
    "    I[node_index, :, 10:30] = soln.y[16:20]\n",
    "    R[node_index, 10:30] = soln.y[20]\n",
    "    L[node_index, 10:30] = Lc@soln.y[16:20]\n",
    "    Lpredicted=L[node_index, 10:30]\n",
    "    mse= mean_squared_error(Lpredicted,L_observed[node_index,10:30])\n",
    "    #breakpoint()\n",
    "    return mse\n"
   ]
  },
  {
   "cell_type": "markdown",
   "metadata": {},
   "source": [
    "## (b)"
   ]
  },
  {
   "cell_type": "code",
   "execution_count": 141,
   "metadata": {},
   "outputs": [
    {
     "data": {
      "text/plain": [
       "'n=g_inv(A0[39])\\nnm=n+10000\\nm=g(nm)\\nAn=g_inv(m)\\nprint(m) '"
      ]
     },
     "execution_count": 141,
     "metadata": {},
     "output_type": "execute_result"
    }
   ],
   "source": [
    "'''n=g_inv(A0[39])\n",
    "nm=n+10000\n",
    "m=g(nm)\n",
    "An=g_inv(m)\n",
    "print(m) '''"
   ]
  },
  {
   "cell_type": "code",
   "execution_count": 279,
   "metadata": {},
   "outputs": [],
   "source": [
    "def g(money):\n",
    "    alpha = 1/np.log2(2*10**(-3)*money+2)\n",
    "    return alpha\n",
    "\n",
    "def g_inv(alpha):\n",
    "    money = (2**(1/alpha)-2)/(2*10**(-3))\n",
    "    return money\n",
    "    import matplotlib.pyplot as plt \n",
    "\n",
    "def scatter_plot(alpha_afterNPI):\n",
    "    plt.figure()\n",
    "    colors=(beta_old[np.newaxis,:,:]*Svc_0_PMF).mean(axis=(1,2))\n",
    "    plt.scatter(sorted_alphas,A1, s=N/500, c=colors, cmap='jet', alpha=0.5)\n",
    "    plt.xlabel(r\"$\\alpha_{own}$\")\n",
    "    plt.ylabel(r\"$\\alpha_{after\\ NPI}$\")\n",
    "    #plt.axis([0, 1, 0, 1])\n",
    "    \n",
    "def total_recovered_difference(alpha_afterNPI):\n",
    "    t = np.linspace(0, 199, 200)\n",
    "    #initial_conditions = np.concatenate((Svc_0[node_index].flatten(), Ic_0[node_index], [R0[node_index]]))\n",
    "    #soln = solve_ivp(SIR1, (t[0], t[199]), initial_conditions, args=(N_node, beta_old, gamma,alpha_afterNPI), t_eval=t[0:199])\n",
    "    #S[node_index, :, :, 0:199] = soln.y[:100]\n",
    "    #sorteda=soln.y[:100]\n",
    "    #sorted_alphas.reshape(1,100)\n",
    "    \n",
    "    for N_node, node_index in zip(N, range(nb_nodes)):\n",
    "\n",
    "        initial_conditions = np.concatenate((Svc_0[node_index].flatten(), Ic_0[node_index], [R0[node_index]]))\n",
    "\n",
    "        soln = solve_ivp(SIR, (t[0], t[199]), initial_conditions, args=(N_node, beta_old, gamma), t_eval=t[0:199])\n",
    "\n",
    "        S[node_index, :, :, :199] = soln.y[:16].reshape(4,4,-1)\n",
    "        I[node_index, :, :199] = soln.y[16:20]\n",
    "        R[node_index, :199] = soln.y[20]\n",
    "        L[node_index, :199] = Lc@soln.y[16:20]\n",
    "    #breakpoint()\n",
    "    beforeNPI=R\n",
    "    \n",
    "    \n",
    "    for N_node, node_index in zip(N, range(nb_nodes)):\n",
    "\n",
    "        initial_conditions1 = np.concatenate((Svc_0[node_index].flatten(), Ic_0[node_index], [R0[node_index]]))\n",
    "        #breakpoint()\n",
    "        \n",
    "        soln1 = solve_ivp(SIR1, (t[0], t[199]), initial_conditions1, args=(N_node, beta_old, gamma,alpha_afterNPI), t_eval=t[0:199])\n",
    "        #need to reshape alpha_afterNPI\n",
    "        S[node_index, :, :, :199] = soln1.y[:16].reshape(4,4,-1)\n",
    "        I[node_index, :, :199] = soln1.y[16:20]\n",
    "        R[node_index, :199] = soln1.y[20]\n",
    "        L[node_index, :199] = Lc@soln1.y[16:20]\n",
    "        R1=soln1.y[16:20]\n",
    "        \n",
    "    afterNPI=R1\n",
    "    \n",
    "    \n",
    "    \n",
    "    difference = afterNPI#(S- alpha_afterNPI)\n",
    "    \n",
    "    return difference"
   ]
  },
  {
   "cell_type": "markdown",
   "metadata": {},
   "source": [
    "### Policy #1"
   ]
  },
  {
   "cell_type": "code",
   "execution_count": 184,
   "metadata": {},
   "outputs": [],
   "source": [
    "#i.\n",
    "A1=[]\n",
    "Newmoney=[]\n",
    "for r in range(100):\n",
    "    n=g_inv(sorted_alphas[r])\n",
    "    nm=n+10000\n",
    "    An=g(nm)\n",
    "    m=g_inv(An)\n",
    "    A1.append(An)\n",
    "    Newmoney.append(m)\n"
   ]
  },
  {
   "cell_type": "code",
   "execution_count": 185,
   "metadata": {},
   "outputs": [
    {
     "data": {
      "image/png": "[encoded data removed]",
      "text/plain": [
       "<Figure size 432x288 with 1 Axes>"
      ]
     },
     "metadata": {
      "needs_background": "light"
     },
     "output_type": "display_data"
    }
   ],
   "source": [
    "import matplotlib.pyplot as plt\n",
    "scatter_plot(A1)"
   ]
  },
  {
   "cell_type": "code",
   "execution_count": 278,
   "metadata": {},
   "outputs": [
    {
     "name": "stdout",
     "output_type": "stream",
     "text": [
      "> \u001b[0;32m<ipython-input-277-b80b9156ecde>\u001b[0m(45)\u001b[0;36mtotal_recovered_difference\u001b[0;34m()\u001b[0m\n",
      "\u001b[0;32m     43 \u001b[0;31m        \u001b[0mbreakpoint\u001b[0m\u001b[0;34m(\u001b[0m\u001b[0;34m)\u001b[0m\u001b[0;34m\u001b[0m\u001b[0;34m\u001b[0m\u001b[0m\n",
      "\u001b[0m\u001b[0;32m     44 \u001b[0;31m\u001b[0;34m\u001b[0m\u001b[0m\n",
      "\u001b[0m\u001b[0;32m---> 45 \u001b[0;31m        \u001b[0msoln1\u001b[0m \u001b[0;34m=\u001b[0m \u001b[0msolve_ivp\u001b[0m\u001b[0;34m(\u001b[0m\u001b[0mSIR1\u001b[0m\u001b[0;34m,\u001b[0m \u001b[0;34m(\u001b[0m\u001b[0mt\u001b[0m\u001b[0;34m[\u001b[0m\u001b[0;36m0\u001b[0m\u001b[0;34m]\u001b[0m\u001b[0;34m,\u001b[0m \u001b[0mt\u001b[0m\u001b[0;34m[\u001b[0m\u001b[0;36m199\u001b[0m\u001b[0;34m]\u001b[0m\u001b[0;34m)\u001b[0m\u001b[0;34m,\u001b[0m \u001b[0minitial_conditions1\u001b[0m\u001b[0;34m,\u001b[0m \u001b[0margs\u001b[0m\u001b[0;34m=\u001b[0m\u001b[0;34m(\u001b[0m\u001b[0mN_node\u001b[0m\u001b[0;34m,\u001b[0m \u001b[0mbeta_old\u001b[0m\u001b[0;34m,\u001b[0m \u001b[0mgamma\u001b[0m\u001b[0;34m,\u001b[0m\u001b[0malpha_afterNPI\u001b[0m\u001b[0;34m)\u001b[0m\u001b[0;34m,\u001b[0m \u001b[0mt_eval\u001b[0m\u001b[0;34m=\u001b[0m\u001b[0mt\u001b[0m\u001b[0;34m[\u001b[0m\u001b[0;36m0\u001b[0m\u001b[0;34m:\u001b[0m\u001b[0;36m199\u001b[0m\u001b[0;34m]\u001b[0m\u001b[0;34m)\u001b[0m\u001b[0;34m\u001b[0m\u001b[0;34m\u001b[0m\u001b[0m\n",
      "\u001b[0m\u001b[0;32m     46 \u001b[0;31m\u001b[0;34m\u001b[0m\u001b[0m\n",
      "\u001b[0m\u001b[0;32m     47 \u001b[0;31m        \u001b[0mS\u001b[0m\u001b[0;34m[\u001b[0m\u001b[0mnode_index\u001b[0m\u001b[0;34m,\u001b[0m \u001b[0;34m:\u001b[0m\u001b[0;34m,\u001b[0m \u001b[0;34m:\u001b[0m\u001b[0;34m,\u001b[0m \u001b[0;34m:\u001b[0m\u001b[0;36m199\u001b[0m\u001b[0;34m]\u001b[0m \u001b[0;34m=\u001b[0m \u001b[0msoln1\u001b[0m\u001b[0;34m.\u001b[0m\u001b[0my\u001b[0m\u001b[0;34m[\u001b[0m\u001b[0;34m:\u001b[0m\u001b[0;36m16\u001b[0m\u001b[0;34m]\u001b[0m\u001b[0;34m.\u001b[0m\u001b[0mreshape\u001b[0m\u001b[0;34m(\u001b[0m\u001b[0;36m4\u001b[0m\u001b[0;34m,\u001b[0m\u001b[0;36m4\u001b[0m\u001b[0;34m,\u001b[0m\u001b[0;34m-\u001b[0m\u001b[0;36m1\u001b[0m\u001b[0;34m)\u001b[0m\u001b[0;34m\u001b[0m\u001b[0;34m\u001b[0m\u001b[0m\n",
      "\u001b[0m\n",
      "ipdb> alpha_afterNPI\n",
      "[0.1219875708991558, 0.13486726171284277, 0.1384092366477121, 0.1399851549146592, 0.14129673436615253, 0.14288097310278913, 0.14544722861632917, 0.14570632887451385, 0.1483889308889189, 0.15453821780678845, 0.1553317326647037, 0.15675392362658838, 0.15893428981679036, 0.1626992994633484, 0.16513613981516034, 0.17359787049537367, 0.17551166465159077, 0.175564979615867, 0.1759105903576458, 0.17751522258410368, 0.17960965918500335, 0.1797549137461394, 0.1799768752994217, 0.1845796247459983, 0.1848036501327059, 0.18624729781578642, 0.18631644128928435, 0.18802031001328717, 0.18978292912765873, 0.1924652521009385, 0.19312980115753392, 0.19345642571536656, 0.19523325145916207, 0.19684887352155328, 0.19740740023223574, 0.19778451193887306, 0.19856595465244226, 0.19931161221741114, 0.1993462602683426, 0.19936104590582326, 0.20056049877907994, 0.2008733715498406, 0.20163022108312145, 0.2025553892425791, 0.20332071139414168, 0.20379807306634243, 0.20408841070686692, 0.20589210970967078, 0.206490835661169, 0.20675386429746279, 0.20687853381301083, 0.20770547784235907, 0.20774027213383092, 0.20810940584729007, 0.20822638075409278, 0.20835407983298282, 0.20880402493116063, 0.20974008877834993, 0.2098802673101723, 0.2104300203585566, 0.21066043901120796, 0.21098056000717907, 0.21180675325594372, 0.21193712286720542, 0.2128118443508116, 0.21316268900384433, 0.21328619233385301, 0.21432112193127528, 0.2146140385935889, 0.21465056355721784, 0.21503488179434074, 0.2153675001301749, 0.21538176869298745, 0.21585681156823036, 0.21617075082852713, 0.21645158208366214, 0.21700738459130464, 0.2178712417247257, 0.2185959808369101, 0.21864305613012538, 0.2187899311783441, 0.21912920595483898, 0.2192959090159103, 0.2197999329364275, 0.2198984268775847, 0.2199300532202018, 0.22051828560865802, 0.220869633201034, 0.22152382042651655, 0.2215584785789157, 0.22160489816843726, 0.22182559757624407, 0.2219240686252234, 0.2220370817413559, 0.22217118522671753, 0.22225054977038206, 0.22243176931673336, 0.22369410966560693, 0.2237778620869255, 0.22417272331405644]\n",
      "ipdb> N_node\n",
      "25690.53518761995\n",
      "ipdb> beta_old\n",
      "array([[0.05, 0.1 , 0.15, 0.25],\n",
      "       [0.2 , 0.25, 0.3 , 0.4 ],\n",
      "       [0.4 , 0.45, 0.5 , 0.6 ],\n",
      "       [0.6 , 0.65, 0.7 , 0.85]])\n",
      "ipdb> gamma\n",
      "array(0.07142857)\n",
      "ipdb> q\n"
     ]
    },
    {
     "ename": "BdbQuit",
     "evalue": "",
     "output_type": "error",
     "traceback": [
      "\u001b[0;31m---------------------------------------------------------------------------\u001b[0m",
      "\u001b[0;31mBdbQuit\u001b[0m                                   Traceback (most recent call last)",
      "\u001b[0;32m<ipython-input-278-a70c690ed74b>\u001b[0m in \u001b[0;36m<module>\u001b[0;34m\u001b[0m\n\u001b[1;32m      1\u001b[0m \u001b[0;31m#ii\u001b[0m\u001b[0;34m\u001b[0m\u001b[0;34m\u001b[0m\u001b[0;34m\u001b[0m\u001b[0m\n\u001b[0;32m----> 2\u001b[0;31m \u001b[0mtotal_recovered_difference\u001b[0m\u001b[0;34m(\u001b[0m\u001b[0mA1\u001b[0m\u001b[0;34m)\u001b[0m\u001b[0;34m\u001b[0m\u001b[0;34m\u001b[0m\u001b[0m\n\u001b[0m",
      "\u001b[0;32m<ipython-input-277-b80b9156ecde>\u001b[0m in \u001b[0;36mtotal_recovered_difference\u001b[0;34m(alpha_afterNPI)\u001b[0m\n\u001b[1;32m     43\u001b[0m         \u001b[0mbreakpoint\u001b[0m\u001b[0;34m(\u001b[0m\u001b[0;34m)\u001b[0m\u001b[0;34m\u001b[0m\u001b[0;34m\u001b[0m\u001b[0m\n\u001b[1;32m     44\u001b[0m \u001b[0;34m\u001b[0m\u001b[0m\n\u001b[0;32m---> 45\u001b[0;31m         \u001b[0msoln1\u001b[0m \u001b[0;34m=\u001b[0m \u001b[0msolve_ivp\u001b[0m\u001b[0;34m(\u001b[0m\u001b[0mSIR1\u001b[0m\u001b[0;34m,\u001b[0m \u001b[0;34m(\u001b[0m\u001b[0mt\u001b[0m\u001b[0;34m[\u001b[0m\u001b[0;36m0\u001b[0m\u001b[0;34m]\u001b[0m\u001b[0;34m,\u001b[0m \u001b[0mt\u001b[0m\u001b[0;34m[\u001b[0m\u001b[0;36m199\u001b[0m\u001b[0;34m]\u001b[0m\u001b[0;34m)\u001b[0m\u001b[0;34m,\u001b[0m \u001b[0minitial_conditions1\u001b[0m\u001b[0;34m,\u001b[0m \u001b[0margs\u001b[0m\u001b[0;34m=\u001b[0m\u001b[0;34m(\u001b[0m\u001b[0mN_node\u001b[0m\u001b[0;34m,\u001b[0m \u001b[0mbeta_old\u001b[0m\u001b[0;34m,\u001b[0m \u001b[0mgamma\u001b[0m\u001b[0;34m,\u001b[0m\u001b[0malpha_afterNPI\u001b[0m\u001b[0;34m)\u001b[0m\u001b[0;34m,\u001b[0m \u001b[0mt_eval\u001b[0m\u001b[0;34m=\u001b[0m\u001b[0mt\u001b[0m\u001b[0;34m[\u001b[0m\u001b[0;36m0\u001b[0m\u001b[0;34m:\u001b[0m\u001b[0;36m199\u001b[0m\u001b[0;34m]\u001b[0m\u001b[0;34m)\u001b[0m\u001b[0;34m\u001b[0m\u001b[0;34m\u001b[0m\u001b[0m\n\u001b[0m\u001b[1;32m     46\u001b[0m \u001b[0;34m\u001b[0m\u001b[0m\n\u001b[1;32m     47\u001b[0m         \u001b[0mS\u001b[0m\u001b[0;34m[\u001b[0m\u001b[0mnode_index\u001b[0m\u001b[0;34m,\u001b[0m \u001b[0;34m:\u001b[0m\u001b[0;34m,\u001b[0m \u001b[0;34m:\u001b[0m\u001b[0;34m,\u001b[0m \u001b[0;34m:\u001b[0m\u001b[0;36m199\u001b[0m\u001b[0;34m]\u001b[0m \u001b[0;34m=\u001b[0m \u001b[0msoln1\u001b[0m\u001b[0;34m.\u001b[0m\u001b[0my\u001b[0m\u001b[0;34m[\u001b[0m\u001b[0;34m:\u001b[0m\u001b[0;36m16\u001b[0m\u001b[0;34m]\u001b[0m\u001b[0;34m.\u001b[0m\u001b[0mreshape\u001b[0m\u001b[0;34m(\u001b[0m\u001b[0;36m4\u001b[0m\u001b[0;34m,\u001b[0m\u001b[0;36m4\u001b[0m\u001b[0;34m,\u001b[0m\u001b[0;34m-\u001b[0m\u001b[0;36m1\u001b[0m\u001b[0;34m)\u001b[0m\u001b[0;34m\u001b[0m\u001b[0;34m\u001b[0m\u001b[0m\n",
      "\u001b[0;32m<ipython-input-277-b80b9156ecde>\u001b[0m in \u001b[0;36mtotal_recovered_difference\u001b[0;34m(alpha_afterNPI)\u001b[0m\n\u001b[1;32m     43\u001b[0m         \u001b[0mbreakpoint\u001b[0m\u001b[0;34m(\u001b[0m\u001b[0;34m)\u001b[0m\u001b[0;34m\u001b[0m\u001b[0;34m\u001b[0m\u001b[0m\n\u001b[1;32m     44\u001b[0m \u001b[0;34m\u001b[0m\u001b[0m\n\u001b[0;32m---> 45\u001b[0;31m         \u001b[0msoln1\u001b[0m \u001b[0;34m=\u001b[0m \u001b[0msolve_ivp\u001b[0m\u001b[0;34m(\u001b[0m\u001b[0mSIR1\u001b[0m\u001b[0;34m,\u001b[0m \u001b[0;34m(\u001b[0m\u001b[0mt\u001b[0m\u001b[0;34m[\u001b[0m\u001b[0;36m0\u001b[0m\u001b[0;34m]\u001b[0m\u001b[0;34m,\u001b[0m \u001b[0mt\u001b[0m\u001b[0;34m[\u001b[0m\u001b[0;36m199\u001b[0m\u001b[0;34m]\u001b[0m\u001b[0;34m)\u001b[0m\u001b[0;34m,\u001b[0m \u001b[0minitial_conditions1\u001b[0m\u001b[0;34m,\u001b[0m \u001b[0margs\u001b[0m\u001b[0;34m=\u001b[0m\u001b[0;34m(\u001b[0m\u001b[0mN_node\u001b[0m\u001b[0;34m,\u001b[0m \u001b[0mbeta_old\u001b[0m\u001b[0;34m,\u001b[0m \u001b[0mgamma\u001b[0m\u001b[0;34m,\u001b[0m\u001b[0malpha_afterNPI\u001b[0m\u001b[0;34m)\u001b[0m\u001b[0;34m,\u001b[0m \u001b[0mt_eval\u001b[0m\u001b[0;34m=\u001b[0m\u001b[0mt\u001b[0m\u001b[0;34m[\u001b[0m\u001b[0;36m0\u001b[0m\u001b[0;34m:\u001b[0m\u001b[0;36m199\u001b[0m\u001b[0;34m]\u001b[0m\u001b[0;34m)\u001b[0m\u001b[0;34m\u001b[0m\u001b[0;34m\u001b[0m\u001b[0m\n\u001b[0m\u001b[1;32m     46\u001b[0m \u001b[0;34m\u001b[0m\u001b[0m\n\u001b[1;32m     47\u001b[0m         \u001b[0mS\u001b[0m\u001b[0;34m[\u001b[0m\u001b[0mnode_index\u001b[0m\u001b[0;34m,\u001b[0m \u001b[0;34m:\u001b[0m\u001b[0;34m,\u001b[0m \u001b[0;34m:\u001b[0m\u001b[0;34m,\u001b[0m \u001b[0;34m:\u001b[0m\u001b[0;36m199\u001b[0m\u001b[0;34m]\u001b[0m \u001b[0;34m=\u001b[0m \u001b[0msoln1\u001b[0m\u001b[0;34m.\u001b[0m\u001b[0my\u001b[0m\u001b[0;34m[\u001b[0m\u001b[0;34m:\u001b[0m\u001b[0;36m16\u001b[0m\u001b[0;34m]\u001b[0m\u001b[0;34m.\u001b[0m\u001b[0mreshape\u001b[0m\u001b[0;34m(\u001b[0m\u001b[0;36m4\u001b[0m\u001b[0;34m,\u001b[0m\u001b[0;36m4\u001b[0m\u001b[0;34m,\u001b[0m\u001b[0;34m-\u001b[0m\u001b[0;36m1\u001b[0m\u001b[0;34m)\u001b[0m\u001b[0;34m\u001b[0m\u001b[0;34m\u001b[0m\u001b[0m\n",
      "\u001b[0;32m~/miniconda3/lib/python3.8/bdb.py\u001b[0m in \u001b[0;36mtrace_dispatch\u001b[0;34m(self, frame, event, arg)\u001b[0m\n\u001b[1;32m     86\u001b[0m             \u001b[0;32mreturn\u001b[0m \u001b[0;31m# None\u001b[0m\u001b[0;34m\u001b[0m\u001b[0;34m\u001b[0m\u001b[0m\n\u001b[1;32m     87\u001b[0m         \u001b[0;32mif\u001b[0m \u001b[0mevent\u001b[0m \u001b[0;34m==\u001b[0m \u001b[0;34m'line'\u001b[0m\u001b[0;34m:\u001b[0m\u001b[0;34m\u001b[0m\u001b[0;34m\u001b[0m\u001b[0m\n\u001b[0;32m---> 88\u001b[0;31m             \u001b[0;32mreturn\u001b[0m \u001b[0mself\u001b[0m\u001b[0;34m.\u001b[0m\u001b[0mdispatch_line\u001b[0m\u001b[0;34m(\u001b[0m\u001b[0mframe\u001b[0m\u001b[0;34m)\u001b[0m\u001b[0;34m\u001b[0m\u001b[0;34m\u001b[0m\u001b[0m\n\u001b[0m\u001b[1;32m     89\u001b[0m         \u001b[0;32mif\u001b[0m \u001b[0mevent\u001b[0m \u001b[0;34m==\u001b[0m \u001b[0;34m'call'\u001b[0m\u001b[0;34m:\u001b[0m\u001b[0;34m\u001b[0m\u001b[0;34m\u001b[0m\u001b[0m\n\u001b[1;32m     90\u001b[0m             \u001b[0;32mreturn\u001b[0m \u001b[0mself\u001b[0m\u001b[0;34m.\u001b[0m\u001b[0mdispatch_call\u001b[0m\u001b[0;34m(\u001b[0m\u001b[0mframe\u001b[0m\u001b[0;34m,\u001b[0m \u001b[0marg\u001b[0m\u001b[0;34m)\u001b[0m\u001b[0;34m\u001b[0m\u001b[0;34m\u001b[0m\u001b[0m\n",
      "\u001b[0;32m~/miniconda3/lib/python3.8/bdb.py\u001b[0m in \u001b[0;36mdispatch_line\u001b[0;34m(self, frame)\u001b[0m\n\u001b[1;32m    111\u001b[0m         \u001b[0;32mif\u001b[0m \u001b[0mself\u001b[0m\u001b[0;34m.\u001b[0m\u001b[0mstop_here\u001b[0m\u001b[0;34m(\u001b[0m\u001b[0mframe\u001b[0m\u001b[0;34m)\u001b[0m \u001b[0;32mor\u001b[0m \u001b[0mself\u001b[0m\u001b[0;34m.\u001b[0m\u001b[0mbreak_here\u001b[0m\u001b[0;34m(\u001b[0m\u001b[0mframe\u001b[0m\u001b[0;34m)\u001b[0m\u001b[0;34m:\u001b[0m\u001b[0;34m\u001b[0m\u001b[0;34m\u001b[0m\u001b[0m\n\u001b[1;32m    112\u001b[0m             \u001b[0mself\u001b[0m\u001b[0;34m.\u001b[0m\u001b[0muser_line\u001b[0m\u001b[0;34m(\u001b[0m\u001b[0mframe\u001b[0m\u001b[0;34m)\u001b[0m\u001b[0;34m\u001b[0m\u001b[0;34m\u001b[0m\u001b[0m\n\u001b[0;32m--> 113\u001b[0;31m             \u001b[0;32mif\u001b[0m \u001b[0mself\u001b[0m\u001b[0;34m.\u001b[0m\u001b[0mquitting\u001b[0m\u001b[0;34m:\u001b[0m \u001b[0;32mraise\u001b[0m \u001b[0mBdbQuit\u001b[0m\u001b[0;34m\u001b[0m\u001b[0;34m\u001b[0m\u001b[0m\n\u001b[0m\u001b[1;32m    114\u001b[0m         \u001b[0;32mreturn\u001b[0m \u001b[0mself\u001b[0m\u001b[0;34m.\u001b[0m\u001b[0mtrace_dispatch\u001b[0m\u001b[0;34m\u001b[0m\u001b[0;34m\u001b[0m\u001b[0m\n\u001b[1;32m    115\u001b[0m \u001b[0;34m\u001b[0m\u001b[0m\n",
      "\u001b[0;31mBdbQuit\u001b[0m: "
     ]
    }
   ],
   "source": [
    "#ii\n",
    "total_recovered_difference(A1)\n"
   ]
  },
  {
   "cell_type": "markdown",
   "metadata": {},
   "source": [
    "### Policy #2"
   ]
  },
  {
   "cell_type": "code",
   "execution_count": 203,
   "metadata": {},
   "outputs": [],
   "source": [
    "#i\n",
    "N_percent=N/2714267.352274217\n",
    "money=N_percent*1000000\n",
    "A2=[]\n",
    "Newmoney=[]\n",
    "for r in range(100):\n",
    "    n=g_inv(sorted_alphas[r])\n",
    "    nm=n+money[r]\n",
    "    An=g(nm)\n",
    "    m=g_inv(An)\n",
    "    A2.append(An)\n",
    "    Newmoney.append(m)"
   ]
  },
  {
   "cell_type": "code",
   "execution_count": 204,
   "metadata": {},
   "outputs": [
    {
     "data": {
      "image/png": "[encoded data removed]",
      "text/plain": [
       "<Figure size 432x288 with 1 Axes>"
      ]
     },
     "metadata": {
      "needs_background": "light"
     },
     "output_type": "display_data"
    }
   ],
   "source": [
    "import matplotlib.pyplot as plt\n",
    "scatter_plot(A2)"
   ]
  },
  {
   "cell_type": "markdown",
   "metadata": {},
   "source": [
    "ii."
   ]
  },
  {
   "cell_type": "markdown",
   "metadata": {},
   "source": [
    "### Policy #3"
   ]
  },
  {
   "cell_type": "markdown",
   "metadata": {},
   "source": [
    "i."
   ]
  },
  {
   "cell_type": "markdown",
   "metadata": {},
   "source": [
    "ii."
   ]
  },
  {
   "cell_type": "markdown",
   "metadata": {},
   "source": [
    "### Policy #4"
   ]
  },
  {
   "cell_type": "markdown",
   "metadata": {},
   "source": [
    "i."
   ]
  },
  {
   "cell_type": "markdown",
   "metadata": {},
   "source": [
    "ii."
   ]
  },
  {
   "cell_type": "markdown",
   "metadata": {},
   "source": [
    "## (c)"
   ]
  },
  {
   "cell_type": "markdown",
   "metadata": {},
   "source": [
    "### Policy 1"
   ]
  },
  {
   "cell_type": "markdown",
   "metadata": {},
   "source": [
    "### Policy 2"
   ]
  },
  {
   "cell_type": "markdown",
   "metadata": {},
   "source": [
    "### Policy 3"
   ]
  },
  {
   "cell_type": "markdown",
   "metadata": {},
   "source": [
    "### Policy 4"
   ]
  },
  {
   "cell_type": "code",
   "execution_count": null,
   "metadata": {},
   "outputs": [],
   "source": []
  }
 ],
 "metadata": {
  "kernelspec": {
   "display_name": "Python 3",
   "language": "python",
   "name": "python3"
  },
  "language_info": {
   "codemirror_mode": {
    "name": "ipython",
    "version": 3
   },
   "file_extension": ".py",
   "mimetype": "text/x-python",
   "name": "python",
   "nbconvert_exporter": "python",
   "pygments_lexer": "ipython3",
   "version": "3.8.3"
  }
 },
 "nbformat": 4,
 "nbformat_minor": 2
}
