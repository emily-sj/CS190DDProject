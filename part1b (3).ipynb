{
 "cells": [
  {
   "cell_type": "code",
   "execution_count": 1,
   "metadata": {},
   "outputs": [],
   "source": [
    "import numpy as np"
   ]
  },
  {
   "cell_type": "code",
   "execution_count": 2,
   "metadata": {},
   "outputs": [],
   "source": [
    "data=np.load(\"part1b.npz\")"
   ]
  },
  {
   "cell_type": "code",
   "execution_count": 3,
   "metadata": {},
   "outputs": [
    {
     "data": {
      "text/plain": [
       "['N', 'Lc', 'Ic_0', 'gamma', 'L_validation', 'L_test', 'betas_validation']"
      ]
     },
     "execution_count": 3,
     "metadata": {},
     "output_type": "execute_result"
    }
   ],
   "source": [
    "data.files"
   ]
  },
  {
   "cell_type": "code",
   "execution_count": 4,
   "metadata": {},
   "outputs": [
    {
     "data": {
      "text/plain": [
       "array(50000.)"
      ]
     },
     "execution_count": 4,
     "metadata": {},
     "output_type": "execute_result"
    }
   ],
   "source": [
    "data[\"N\"]"
   ]
  },
  {
   "cell_type": "code",
   "execution_count": 5,
   "metadata": {},
   "outputs": [
    {
     "data": {
      "text/plain": [
       "(4,)"
      ]
     },
     "execution_count": 5,
     "metadata": {},
     "output_type": "execute_result"
    }
   ],
   "source": [
    "data['Lc'].shape"
   ]
  },
  {
   "cell_type": "code",
   "execution_count": 6,
   "metadata": {},
   "outputs": [
    {
     "data": {
      "text/plain": [
       "array([[0.1 , 0.15, 0.2 , 0.25],\n",
       "       [0.2 , 0.25, 0.3 , 0.4 ],\n",
       "       [0.35, 0.45, 0.5 , 0.6 ],\n",
       "       [0.4 , 0.5 , 0.6 , 0.8 ]])"
      ]
     },
     "execution_count": 6,
     "metadata": {},
     "output_type": "execute_result"
    }
   ],
   "source": [
    "data['betas_validation']"
   ]
  },
  {
   "cell_type": "code",
   "execution_count": 7,
   "metadata": {},
   "outputs": [],
   "source": [
    "nx=np.sum(data['Ic_0'],axis=1)"
   ]
  },
  {
   "cell_type": "code",
   "execution_count": 8,
   "metadata": {},
   "outputs": [
    {
     "data": {
      "text/plain": [
       "array([[  151.15723798,   157.09236032,   166.0663423 ,   175.26894184,\n",
       "          187.12271809,   200.29536627,   207.19011153,   220.23944915,\n",
       "          235.52590645,   247.09469931,   263.51055631,   281.18896107,\n",
       "          304.53407513,   316.7776232 ,   337.4146583 ,   359.08603642,\n",
       "          376.95873111,   410.63777058,   432.23666001,   466.32640805],\n",
       "       [  168.20103748,   175.31698233,   184.41546073,   191.23318015,\n",
       "          200.38958258,   212.84378649,   222.09570163,   237.44506788,\n",
       "          251.13497681,   263.20329764,   281.12505942,   299.02683147,\n",
       "          312.07088043,   336.08191882,   353.17466265,   372.3214408 ,\n",
       "          404.21116271,   424.09816716,   450.52039605,   482.72819186],\n",
       "       [  108.25555772,   116.61301613,   122.162737  ,   128.61290071,\n",
       "          136.27974903,   143.16249542,   153.75545994,   158.05373752,\n",
       "          171.84080869,   178.44468654,   190.6241656 ,   202.74814433,\n",
       "          214.01601724,   233.09216822,   246.84519371,   265.9302079 ,\n",
       "          277.11406479,   298.23288273,   319.98076886,   335.74020325],\n",
       "       [  121.06511809,   127.92622111,   135.55296184,   139.17575568,\n",
       "          145.96802355,   155.66883429,   164.0805325 ,   178.1596537 ,\n",
       "          185.66887853,   198.39032731,   208.02895346,   228.30967547,\n",
       "          238.76305577,   252.39827455,   266.91510839,   288.52708087,\n",
       "          307.45415685,   327.0509159 ,   340.54791241,   369.24496959],\n",
       "       [   96.28146613,   100.45775325,   104.28133454,   112.92946664,\n",
       "          121.2606668 ,   127.70950132,   135.47036843,   144.6282618 ,\n",
       "          154.01031199,   164.18497614,   171.82450374,   187.24907836,\n",
       "          197.50744069,   209.13508126,   225.85010003,   241.34624758,\n",
       "          251.78048183,   274.63197777,   291.14082196,   315.04205441],\n",
       "       [   89.06213629,   104.33672899,   122.66761528,   148.65036509,\n",
       "          176.68799415,   211.69862293,   249.55697169,   298.09036804,\n",
       "          351.57566439,   420.58582498,   507.23737581,   601.50138143,\n",
       "          718.19595226,   854.73444518,  1019.02544316,  1204.7460187 ,\n",
       "         1420.63526393,  1643.67767873,  1946.12597446,  2247.53972166],\n",
       "       [  131.37517442,   150.66522888,   176.78920214,   213.10475279,\n",
       "          252.07799809,   300.46925208,   362.02097279,   434.57939204,\n",
       "          507.55359925,   605.52682981,   718.63541606,   848.87891235,\n",
       "         1011.88696143,  1199.09862146,  1407.23294192,  1665.57448004,\n",
       "         1936.13503201,  2271.83643442,  2614.88919999,  3017.16077201],\n",
       "       [  112.92686331,   132.15184146,   156.53768593,   188.4478975 ,\n",
       "          220.41667622,   264.12948171,   313.26909083,   378.04068686,\n",
       "          444.93075375,   533.22501909,   627.90245518,   750.58064848,\n",
       "          894.05126796,  1044.38802306,  1258.07099998,  1472.33518628,\n",
       "         1726.96894717,  2003.52892004,  2373.60991581,  2753.68330122],\n",
       "       [  175.105311  ,   197.69655277,   234.37314189,   271.82141539,\n",
       "          317.88788977,   361.65155891,   427.52854491,   513.258584  ,\n",
       "          601.87657508,   723.04283772,   844.05086649,  1010.14251497,\n",
       "         1170.7094332 ,  1373.91854256,  1615.65158449,  1913.5241355 ,\n",
       "         2204.17051701,  2611.110637  ,  2984.04351489,  3323.97008123],\n",
       "       [   67.52879228,    76.57813082,    89.0125467 ,   102.5198856 ,\n",
       "          118.56093212,   144.53933247,   169.4576684 ,   199.71096744,\n",
       "          236.75102967,   285.63418153,   334.33779862,   405.53719896,\n",
       "          479.03227522,   576.36874428,   682.29023975,   790.47768935,\n",
       "          941.00368005,  1131.40243604,  1339.00100619,  1538.72273508],\n",
       "       [   84.50851597,   132.40305419,   199.27048727,   306.86490477,\n",
       "          448.33394085,   659.79509944,   966.8382816 ,  1408.04061276,\n",
       "         1991.25115427,  2753.2034935 ,  3838.88928909,  5287.90279901,\n",
       "         6910.96802999,  8507.78727263, 10572.16125555, 12118.87087196,\n",
       "        13649.28543143, 14591.24871753, 15080.19984373, 15471.38525153],\n",
       "       [  156.55620899,   227.66397515,   341.09459149,   497.44525502,\n",
       "          721.52530244,  1041.97887172,  1480.65257611,  2115.67557292,\n",
       "         2992.16795938,  4106.51767116,  5408.814675  ,  7068.42978728,\n",
       "         9045.37394677, 10675.57773428, 12344.14134148, 13664.66483466,\n",
       "        14734.88000442, 15242.1582421 , 15135.21194638, 15223.21579884],\n",
       "       [  138.30209136,   203.07824386,   291.85824175,   428.6616985 ,\n",
       "          627.92754503,   890.19804119,  1302.53849147,  1874.05901895,\n",
       "         2643.71025746,  3699.9047597 ,  4923.09414029,  6474.26215564,\n",
       "         8277.9573922 , 10221.07148451, 11904.81422828, 13341.3510476 ,\n",
       "        14160.52341758, 14701.81214102, 15423.31432755, 15159.04680442],\n",
       "       [   95.04501927,   150.1809574 ,   224.7344325 ,   344.00365265,\n",
       "          520.23290149,   759.27068646,  1090.32048613,  1581.78874913,\n",
       "         2273.41347764,  3190.80026541,  4299.58963994,  5812.82111235,\n",
       "         7422.13482588,  9235.40649723, 11166.58518237, 12540.56460812,\n",
       "        13737.0028421 , 14877.44432311, 15048.97619561, 15489.54588275],\n",
       "       [  131.93192255,   186.85361337,   277.03062593,   404.63099911,\n",
       "          575.34966707,   836.38859013,  1223.30799298,  1716.20456134,\n",
       "         2470.09882439,  3413.17038855,  4725.92459331,  6174.32428944,\n",
       "         7887.42725503,  9957.82609246, 11567.94896888, 13172.6574451 ,\n",
       "        14122.31184166, 14713.99593347, 15174.88267772, 15437.99060255],\n",
       "       [   60.77045199,   120.91993594,   229.20012877,   424.87751772,\n",
       "          738.97444767,  1314.52763749,  2222.43999871,  3692.68901232,\n",
       "         6000.8203981 ,  9049.99753567, 12690.04447186, 16655.88233055,\n",
       "        19747.56679312, 21787.75037584, 22627.79013072, 23445.13001036,\n",
       "        22677.20541685, 21877.67602571, 20436.502653  , 19502.73252576],\n",
       "       [  121.30830846,   248.55897273,   464.19185064,   848.4145724 ,\n",
       "         1470.74896231,  2590.26301101,  4187.45193444,  6622.24492026,\n",
       "         9944.44804212, 13852.35336844, 17338.82803959, 20383.6782321 ,\n",
       "        22233.97539818, 23179.33546186, 22652.8232763 , 22313.893838  ,\n",
       "        21632.8799408 , 20321.19775285, 19748.04406276, 18354.98298979],\n",
       "       [  206.00564717,   411.80340974,   754.55816952,  1355.89435567,\n",
       "         2300.96388328,  3972.59440034,  6244.13549702,  9592.25014606,\n",
       "        13467.30313529, 17266.97746581, 20608.59140077, 22127.93933273,\n",
       "        22705.38820659, 23288.91146068, 22355.03930188, 21614.78077635,\n",
       "        20897.34290447, 19399.90655074, 18473.32991425, 17333.22850926],\n",
       "       [  141.15541354,   252.11282994,   447.87010336,   804.98371553,\n",
       "         1390.81526165,  2338.55423544,  3908.66795644,  6217.21603483,\n",
       "         9445.26278568, 13152.40280556, 16777.61187643, 19971.85021429,\n",
       "        22044.54357889, 22674.98277457, 22858.01325296, 23058.16884912,\n",
       "        21549.55447274, 20978.40787997, 19569.37320476, 18285.17955768],\n",
       "       [   99.93560666,   199.54808293,   365.8590521 ,   650.42023491,\n",
       "         1156.31487856,  1988.64188088,  3377.13329978,  5397.94868832,\n",
       "         8243.85082791, 12039.72208365, 15835.67211362, 19128.32534246,\n",
       "        21390.90254458, 22982.235817  , 22965.83050233, 22688.4269024 ,\n",
       "        22211.68343591, 21161.29363716, 20100.97646445, 18900.25140752]])"
      ]
     },
     "execution_count": 8,
     "metadata": {},
     "output_type": "execute_result"
    }
   ],
   "source": [
    "data[\"L_validation\"]"
   ]
  },
  {
   "cell_type": "code",
   "execution_count": 14,
   "metadata": {
    "scrolled": true
   },
   "outputs": [
    {
     "name": "stdout",
     "output_type": "stream",
     "text": [
      "(16, 1)\n"
     ]
    }
   ],
   "source": [
    "N=50000\n",
    "Ic_01=data['Ic_0']\n",
    "Ic_0=nx\n",
    "not_inf=50000-Ic_0 #origin population not infected \n",
    "nd=not_inf.reshape(-1,1)\n",
    "#print(not_inf)\n",
    "#print(leaf1.shape)\n",
    "#print(leaf1)\n",
    "\n",
    "\n",
    "leaf_nodes=np.array([[.5,.3,.1,.1],[.4,.3,.2,.1],[.3,.3,.2,.2],[.1,.2,.3,.4]])\n",
    "leafs=leaf_nodes.reshape(-1,1)\n",
    "\n",
    "leaf1=np.dot(nd,leafs.transpose())# finding the intial suspectiable population \n",
    "#leaf2=np.dot(leaf_nodes,not_inf.transpose())\n",
    "#leaf1\n",
    "\n",
    "\n",
    "\n",
    "L_val=data[\"L_validation\"]\n",
    "Lc=data['Lc']\n",
    "#lc1=Lc.reshape(-1,1)\n",
    "betas_v=data[\"betas_validation\"].reshape(-1,1)\n",
    "\n",
    "Rc=np.array([0])\n",
    "t=np.linspace(0,20,20)\n",
    "I=np.sum(Ic_0)\n",
    "Gamma=data[\"gamma\"]\n",
    "d=10000\n",
    "\n",
    "initial_vec=np.concatenate([leaf1.flatten(),Ic_01.flatten(),Rc.flatten()])\n",
    "print(betas_v.shape)"
   ]
  },
  {
   "cell_type": "code",
   "execution_count": 15,
   "metadata": {},
   "outputs": [],
   "source": [
    "def SIR(t,y,betas,gammas):\n",
    "    S_vec=y[0:16]\n",
    "    I_vec=y[16:20]\n",
    "    R_vec=y[20]\n",
    "    \n",
    "    N=50000 ##population size \n",
    "    \n",
    "    dsvc_dt=-(betas*S_vec*sum(I_vec)/N)\n",
    "    dic_dt=-(np.sum(dsvc_dt,axis=0))-(gammas*I_vec)\n",
    "    dr_dt=gammas*sum(I_vec)\n",
    "    \n",
    "    vectors=np.concatenate([dsvc_dt.flatten(),dic_dt.flatten(),dr_dt.flatten()])\n",
    "    #breakpoint()\n",
    "    return vectors"
   ]
  },
  {
   "cell_type": "code",
   "execution_count": 28,
   "metadata": {},
   "outputs": [],
   "source": [
    "def SIR1(t,y,betas,gammas):\n",
    "    S_vec=y[0:320]#.reshape(20,16)\n",
    "    I_vec=y[320:400]#.reshape(20,4)\n",
    "    R_vec=y[400]\n",
    "    \n",
    "    N=50000 ##population size \n",
    "    #breakpoint()\n",
    "    dsvc_dt=-(betas*S_vec*np.sum(I_vec)/N)\n",
    "    dic_dt=-(np.sum(dsvc_dt,axis=0))-(gammas*I_vec)\n",
    "    dr_dt=gammas*sum(I_vec)\n",
    "    \n",
    "    vectors=np.concatenate([dsvc_dt.flatten(),dic_dt.flatten(),dr_dt.flatten()])\n",
    "    #breakpoint()\n",
    "    return vectors"
   ]
  },
  {
   "cell_type": "code",
   "execution_count": null,
   "metadata": {},
   "outputs": [
    {
     "name": "stdout",
     "output_type": "stream",
     "text": [
      "> \u001b[1;32m<ipython-input-28-06e337aa9dfa>\u001b[0m(14)\u001b[0;36mSIR1\u001b[1;34m()\u001b[0m\n",
      "\u001b[1;32m     10 \u001b[1;33m    \u001b[0mdr_dt\u001b[0m\u001b[1;33m=\u001b[0m\u001b[0mgammas\u001b[0m\u001b[1;33m*\u001b[0m\u001b[0msum\u001b[0m\u001b[1;33m(\u001b[0m\u001b[0mI_vec\u001b[0m\u001b[1;33m)\u001b[0m\u001b[1;33m\u001b[0m\u001b[1;33m\u001b[0m\u001b[0m\n",
      "\u001b[0m\u001b[1;32m     11 \u001b[1;33m\u001b[1;33m\u001b[0m\u001b[0m\n",
      "\u001b[0m\u001b[1;32m     12 \u001b[1;33m    \u001b[0mvectors\u001b[0m\u001b[1;33m=\u001b[0m\u001b[0mnp\u001b[0m\u001b[1;33m.\u001b[0m\u001b[0mconcatenate\u001b[0m\u001b[1;33m(\u001b[0m\u001b[1;33m[\u001b[0m\u001b[0mdsvc_dt\u001b[0m\u001b[1;33m.\u001b[0m\u001b[0mflatten\u001b[0m\u001b[1;33m(\u001b[0m\u001b[1;33m)\u001b[0m\u001b[1;33m,\u001b[0m\u001b[0mdic_dt\u001b[0m\u001b[1;33m.\u001b[0m\u001b[0mflatten\u001b[0m\u001b[1;33m(\u001b[0m\u001b[1;33m)\u001b[0m\u001b[1;33m,\u001b[0m\u001b[0mdr_dt\u001b[0m\u001b[1;33m.\u001b[0m\u001b[0mflatten\u001b[0m\u001b[1;33m(\u001b[0m\u001b[1;33m)\u001b[0m\u001b[1;33m]\u001b[0m\u001b[1;33m)\u001b[0m\u001b[1;33m\u001b[0m\u001b[1;33m\u001b[0m\u001b[0m\n",
      "\u001b[0m\u001b[1;32m     13 \u001b[1;33m    \u001b[0mbreakpoint\u001b[0m\u001b[1;33m(\u001b[0m\u001b[1;33m)\u001b[0m\u001b[1;33m\u001b[0m\u001b[1;33m\u001b[0m\u001b[0m\n",
      "\u001b[0m\u001b[1;32m---> 14 \u001b[1;33m    \u001b[1;32mreturn\u001b[0m \u001b[0mvectors\u001b[0m\u001b[1;33m\u001b[0m\u001b[1;33m\u001b[0m\u001b[0m\n",
      "\u001b[0m\n",
      "ipdb> vectors\n",
      "array([ -201.674338  ,  -121.0046028 ,   -40.3348676 ,   -40.3348676 ,\n",
      "        -161.3394704 ,  -121.0046028 ,   -80.6697352 ,   -40.3348676 ,\n",
      "        -121.0046028 ,  -121.0046028 ,   -80.6697352 ,   -80.6697352 ,\n",
      "         -40.3348676 ,   -80.6697352 ,  -121.0046028 ,  -161.3394704 ,\n",
      "        -201.633798  ,  -120.9802788 ,   -40.3267596 ,   -40.3267596 ,\n",
      "        -161.3070384 ,  -120.9802788 ,   -80.6535192 ,   -40.3267596 ,\n",
      "        -120.9802788 ,  -120.9802788 ,   -80.6535192 ,   -80.6535192 ,\n",
      "         -40.3267596 ,   -80.6535192 ,  -120.9802788 ,  -161.3070384 ,\n",
      "        -201.962172  ,  -121.1773032 ,   -40.3924344 ,   -40.3924344 ,\n",
      "        -161.5697376 ,  -121.1773032 ,   -80.7848688 ,   -40.3924344 ,\n",
      "        -121.1773032 ,  -121.1773032 ,   -80.7848688 ,   -80.7848688 ,\n",
      "         -40.3924344 ,   -80.7848688 ,  -121.1773032 ,  -161.5697376 ,\n",
      "        -201.8892    ,  -121.13352   ,   -40.37784   ,   -40.37784   ,\n",
      "        -161.51136   ,  -121.13352   ,   -80.75568   ,   -40.37784   ,\n",
      "        -121.13352   ,  -121.13352   ,   -80.75568   ,   -80.75568   ,\n",
      "         -40.37784   ,   -80.75568   ,  -121.13352   ,  -161.51136   ,\n",
      "        -202.018928  ,  -121.2113568 ,   -40.4037856 ,   -40.4037856 ,\n",
      "        -161.6151424 ,  -121.2113568 ,   -80.8075712 ,   -40.4037856 ,\n",
      "        -121.2113568 ,  -121.2113568 ,   -80.8075712 ,   -80.8075712 ,\n",
      "         -40.4037856 ,   -80.8075712 ,  -121.2113568 ,  -161.6151424 ,\n",
      "        -202.07163   ,  -121.242978  ,   -40.414326  ,   -40.414326  ,\n",
      "        -161.657304  ,  -121.242978  ,   -80.828652  ,   -40.414326  ,\n",
      "        -121.242978  ,  -121.242978  ,   -80.828652  ,   -80.828652  ,\n",
      "         -40.414326  ,   -80.828652  ,  -121.242978  ,  -161.657304  ,\n",
      "        -201.791904  ,  -121.0751424 ,   -40.3583808 ,   -40.3583808 ,\n",
      "        -161.4335232 ,  -121.0751424 ,   -80.7167616 ,   -40.3583808 ,\n",
      "        -121.0751424 ,  -121.0751424 ,   -80.7167616 ,   -80.7167616 ,\n",
      "         -40.3583808 ,   -80.7167616 ,  -121.0751424 ,  -161.4335232 ,\n",
      "        -201.905416  ,  -121.1432496 ,   -40.3810832 ,   -40.3810832 ,\n",
      "        -161.5243328 ,  -121.1432496 ,   -80.7621664 ,   -40.3810832 ,\n",
      "        -121.1432496 ,  -121.1432496 ,   -80.7621664 ,   -80.7621664 ,\n",
      "         -40.3810832 ,   -80.7621664 ,  -121.1432496 ,  -161.5243328 ,\n",
      "        -201.64596   ,  -120.987576  ,   -40.329192  ,   -40.329192  ,\n",
      "        -161.316768  ,  -120.987576  ,   -80.658384  ,   -40.329192  ,\n",
      "        -120.987576  ,  -120.987576  ,   -80.658384  ,   -80.658384  ,\n",
      "         -40.329192  ,   -80.658384  ,  -120.987576  ,  -161.316768  ,\n",
      "        -202.290546  ,  -121.3743276 ,   -40.4581092 ,   -40.4581092 ,\n",
      "        -161.8324368 ,  -121.3743276 ,   -80.9162184 ,   -40.4581092 ,\n",
      "        -121.3743276 ,  -121.3743276 ,   -80.9162184 ,   -80.9162184 ,\n",
      "         -40.4581092 ,   -80.9162184 ,  -121.3743276 ,  -161.8324368 ,\n",
      "        -202.03109   ,  -121.218654  ,   -40.406218  ,   -40.406218  ,\n",
      "        -161.624872  ,  -121.218654  ,   -80.812436  ,   -40.406218  ,\n",
      "        -121.218654  ,  -121.218654  ,   -80.812436  ,   -80.812436  ,\n",
      "         -40.406218  ,   -80.812436  ,  -121.218654  ,  -161.624872  ,\n",
      "        -201.650014  ,  -120.9900084 ,   -40.3300028 ,   -40.3300028 ,\n",
      "        -161.3200112 ,  -120.9900084 ,   -80.6600056 ,   -40.3300028 ,\n",
      "        -120.9900084 ,  -120.9900084 ,   -80.6600056 ,   -80.6600056 ,\n",
      "         -40.3300028 ,   -80.6600056 ,  -120.9900084 ,  -161.3200112 ,\n",
      "        -201.783796  ,  -121.0702776 ,   -40.3567592 ,   -40.3567592 ,\n",
      "        -161.4270368 ,  -121.0702776 ,   -80.7135184 ,   -40.3567592 ,\n",
      "        -121.0702776 ,  -121.0702776 ,   -80.7135184 ,   -80.7135184 ,\n",
      "         -40.3567592 ,   -80.7135184 ,  -121.0702776 ,  -161.4270368 ,\n",
      "        -201.933794  ,  -121.1602764 ,   -40.3867588 ,   -40.3867588 ,\n",
      "        -161.5470352 ,  -121.1602764 ,   -80.7735176 ,   -40.3867588 ,\n",
      "        -121.1602764 ,  -121.1602764 ,   -80.7735176 ,   -80.7735176 ,\n",
      "         -40.3867588 ,   -80.7735176 ,  -121.1602764 ,  -161.5470352 ,\n",
      "        -201.856768  ,  -121.1140608 ,   -40.3713536 ,   -40.3713536 ,\n",
      "        -161.4854144 ,  -121.1140608 ,   -80.7427072 ,   -40.3713536 ,\n",
      "        -121.1140608 ,  -121.1140608 ,   -80.7427072 ,   -80.7427072 ,\n",
      "         -40.3713536 ,   -80.7427072 ,  -121.1140608 ,  -161.4854144 ,\n",
      "        -202.282438  ,  -121.3694628 ,   -40.4564876 ,   -40.4564876 ,\n",
      "        -161.8259504 ,  -121.3694628 ,   -80.9129752 ,   -40.4564876 ,\n",
      "        -121.3694628 ,  -121.3694628 ,   -80.9129752 ,   -80.9129752 ,\n",
      "         -40.4564876 ,   -80.9129752 ,  -121.3694628 ,  -161.8259504 ,\n",
      "        -201.852714  ,  -121.1116284 ,   -40.3705428 ,   -40.3705428 ,\n",
      "        -161.4821712 ,  -121.1116284 ,   -80.7410856 ,   -40.3705428 ,\n",
      "        -121.1116284 ,  -121.1116284 ,   -80.7410856 ,   -80.7410856 ,\n",
      "         -40.3705428 ,   -80.7410856 ,  -121.1116284 ,  -161.4821712 ,\n",
      "        -201.317586  ,  -120.7905516 ,   -40.2635172 ,   -40.2635172 ,\n",
      "        -161.0540688 ,  -120.7905516 ,   -80.5270344 ,   -40.2635172 ,\n",
      "        -120.7905516 ,  -120.7905516 ,   -80.5270344 ,   -80.5270344 ,\n",
      "         -40.2635172 ,   -80.5270344 ,  -120.7905516 ,  -161.0540688 ,\n",
      "        -201.921632  ,  -121.1529792 ,   -40.3843264 ,   -40.3843264 ,\n",
      "        -161.5373056 ,  -121.1529792 ,   -80.7686528 ,   -40.3843264 ,\n",
      "        -121.1529792 ,  -121.1529792 ,   -80.7686528 ,   -80.7686528 ,\n",
      "         -40.3843264 ,   -80.7686528 ,  -121.1529792 ,  -161.5373056 ,\n",
      "        -202.05136   ,  -121.230816  ,   -40.410272  ,   -40.410272  ,\n",
      "        -161.641088  ,  -121.230816  ,   -80.820544  ,   -40.410272  ,\n",
      "        -121.230816  ,  -121.230816  ,   -80.820544  ,   -80.820544  ,\n",
      "         -40.410272  ,   -80.820544  ,  -121.230816  ,  -161.641088  ,\n",
      "       32297.16352914, 32294.09210057, 32296.87781486, 32295.87781486,\n",
      "       32294.66352914, 32298.30638629, 32295.94924343, 32294.37781486,\n",
      "       32298.37781486, 32295.80638629, 32297.73495771, 32297.16352914,\n",
      "       32296.30638629, 32298.66352914, 32295.020672  , 32297.80638629,\n",
      "       32299.09210057, 32296.020672  , 32295.520672  , 32299.44924343,\n",
      "       32298.020672  , 32298.30638629, 32294.94924343, 32299.73495771,\n",
      "       32296.94924343, 32296.59210057, 32293.87781486, 32298.66352914,\n",
      "       32299.30638629, 32294.16352914, 32295.87781486, 32298.73495771,\n",
      "       32295.520672  , 32298.59210057, 32295.80638629, 32293.59210057,\n",
      "       32299.09210057, 32299.23495771, 32298.23495771, 32298.30638629,\n",
      "       32295.09210057, 32299.59210057, 32296.16352914, 32299.44924343,\n",
      "       32294.37781486, 32297.09210057, 32297.94924343, 32294.16352914,\n",
      "       32293.66352914, 32299.44924343, 32297.37781486, 32295.44924343,\n",
      "       32294.73495771, 32296.73495771, 32299.16352914, 32297.94924343,\n",
      "       32298.44924343, 32297.37781486, 32293.44924343, 32297.94924343,\n",
      "       32298.73495771, 32298.09210057, 32299.37781486, 32298.520672  ,\n",
      "       32298.87781486, 32294.520672  , 32295.44924343, 32298.30638629,\n",
      "       32294.020672  , 32295.520672  , 32294.09210057, 32294.09210057,\n",
      "       32298.23495771, 32299.73495771, 32295.66352914, 32294.73495771,\n",
      "       32298.09210057, 32297.87781486, 32297.09210057, 32297.59210057,\n",
      "         289.57142857])\n"
     ]
    }
   ],
   "source": [
    "for (beta) in betas_v:\n",
    "    #breakpoint()\n",
    "    soln_obj=solve_ivp(SIR1, (t[0], t[-1]), initial_vec,\\\n",
    "                                     t_eval=t, args=(beta, Gamma))\n",
    "\n",
    "\n",
    "    S_predicted=soln_obj.y[0:320]\n",
    "    I_predicted=soln_obj.y[320:400].reshape(-1,4)\n",
    "    R_predicted=soln_obj.y[400]\n",
    "    breakpoint()\n",
    "    L_predicted=np.dot(Lc.transpose(),I_predicted)\n",
    "    mse= mean_squared_error(observed_data, L_predicted)\n",
    "\n",
    "    #breakpoint()\n",
    "    \n",
    "    if mse<mmse:\n",
    "        mmse = mse\n",
    "        beta_mmse=beta\n"
   ]
  },
  {
   "cell_type": "code",
   "execution_count": 18,
   "metadata": {},
   "outputs": [
    {
     "name": "stdout",
     "output_type": "stream",
     "text": [
      "True values are beta=\n",
      "Estimated values are beta=nan\n"
     ]
    }
   ],
   "source": [
    "from sklearn.metrics import mean_squared_error\n",
    "from scipy.integrate import solve_ivp\n",
    "beta_grid=np.linspace(0.01,1.0,20)\n",
    "lf_nodes=20\n",
    "observed_data=L_val\n",
    "mmse=np.inf\n",
    "beta_mmse=np.nan\n",
    "Rc=np.zeros((lf_nodes))\n",
    "d=100000\n",
    "for (beta) in beta_grid:\n",
    "    #breakpoint()\n",
    "    cumulative_mse = 0.0\n",
    "    \n",
    "    for node_index in range(lf_nodes):\n",
    "        initial_conditions=np.concatenate([leaf1[node_index].flatten(), Ic_01[node_index].flatten(), Rc[node_index].flatten()])\n",
    "\n",
    "        soln_obj=solve_ivp(SIR, (t[0], t[-1]), initial_conditions,\\\n",
    "                                     t_eval=t, args=(beta, Gamma))\n",
    "\n",
    "\n",
    "        S_predicted=soln_obj.y[0:16]\n",
    "        I_predicted=soln_obj.y[16:20]\n",
    "        R_predicted=soln_obj.y[20]\n",
    "        \n",
    "        \n",
    "        L_predicted=np.dot(Lc,I_predicted)\n",
    "        \n",
    "        #breakpoint()\n",
    "        cumulative_mse += mean_squared_error(observed_data[node_index],L_predicted) \n",
    "        #breakpoint()\n",
    "    nm=cumulative_mse\n",
    "    #breakpoint()\n",
    "    if cumulative_mse<mmse  :\n",
    "        mmse=mse\n",
    "        beta_mmse=beta\n",
    "       \n",
    "        \n",
    "print(f\"True values are beta=\")\n",
    "print(f\"Estimated values are beta={beta_mmse:.2f}\")\n",
    "#print(I_predicted)\n"
   ]
  },
  {
   "cell_type": "code",
   "execution_count": 19,
   "metadata": {},
   "outputs": [
    {
     "data": {
      "text/plain": [
       "<function matplotlib.pyplot.show(*args, **kw)>"
      ]
     },
     "execution_count": 19,
     "metadata": {},
     "output_type": "execute_result"
    },
    {
     "data": {
      "image/png": "[encoded data removed]",
      "text/plain": [
       "<Figure size 432x288 with 1 Axes>"
      ]
     },
     "metadata": {
      "needs_background": "light"
     },
     "output_type": "display_data"
    }
   ],
   "source": [
    "import matplotlib.pyplot as plt\n",
    "import matplotlib as mpl\n",
    "plt.plot(t.transpose(), I_predicted.transpose(), 'r') # red \n",
    "plt.show "
   ]
  },
  {
   "cell_type": "code",
   "execution_count": null,
   "metadata": {},
   "outputs": [],
   "source": []
  },
  {
   "cell_type": "code",
   "execution_count": null,
   "metadata": {},
   "outputs": [],
   "source": []
  }
 ],
 "metadata": {
  "kernelspec": {
   "display_name": "Python 3",
   "language": "python",
   "name": "python3"
  },
  "language_info": {
   "codemirror_mode": {
    "name": "ipython",
    "version": 3
   },
   "file_extension": ".py",
   "mimetype": "text/x-python",
   "name": "python",
   "nbconvert_exporter": "python",
   "pygments_lexer": "ipython3",
   "version": "3.8.3"
  }
 },
 "nbformat": 4,
 "nbformat_minor": 4
}
