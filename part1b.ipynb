{
 "cells": [
  {
   "cell_type": "code",
   "execution_count": 2,
   "metadata": {},
   "outputs": [],
   "source": [
    "import numpy as np"
   ]
  },
  {
   "cell_type": "code",
   "execution_count": 3,
   "metadata": {},
   "outputs": [],
   "source": [
    "data=np.load(\"part1b.npz\")"
   ]
  },
  {
   "cell_type": "code",
   "execution_count": 4,
   "metadata": {},
   "outputs": [
    {
     "data": {
      "text/plain": [
       "['N', 'Lc', 'Ic_0', 'gamma', 'L_validation', 'L_test', 'betas_validation']"
      ]
     },
     "execution_count": 4,
     "metadata": {},
     "output_type": "execute_result"
    }
   ],
   "source": [
    "data.files"
   ]
  },
  {
   "cell_type": "code",
   "execution_count": 5,
   "metadata": {},
   "outputs": [
    {
     "data": {
      "text/plain": [
       "array(50000.)"
      ]
     },
     "execution_count": 5,
     "metadata": {},
     "output_type": "execute_result"
    }
   ],
   "source": [
    "data[\"N\"]"
   ]
  },
  {
   "cell_type": "code",
   "execution_count": 81,
   "metadata": {},
   "outputs": [
    {
     "data": {
      "text/plain": [
       "(4,)"
      ]
     },
     "execution_count": 81,
     "metadata": {},
     "output_type": "execute_result"
    }
   ],
   "source": [
    "data['Lc'].shape"
   ]
  },
  {
   "cell_type": "code",
   "execution_count": 7,
   "metadata": {},
   "outputs": [
    {
     "data": {
      "text/plain": [
       "array([[47, 90, 51, 65],\n",
       "       [82, 31, 64, 86],\n",
       "       [30, 66, 39, 47],\n",
       "       [59, 26, 77, 38],\n",
       "       [20, 63, 70, 15],\n",
       "       [35, 31, 78, 11],\n",
       "       [50, 55, 93, 26],\n",
       "       [17, 89, 65, 25],\n",
       "       [70, 27, 66, 97],\n",
       "       [20, 18, 32, 31],\n",
       "       [76, 13, 61, 15],\n",
       "       [86, 48, 36, 89],\n",
       "       [96, 15, 44, 71],\n",
       "       [81, 53, 19, 36],\n",
       "       [29, 44, 99, 36],\n",
       "       [25, 34, 16, 28],\n",
       "       [23, 84, 71, 31],\n",
       "       [91, 70, 90, 90],\n",
       "       [32, 11, 68, 81],\n",
       "       [34, 37, 48, 41]], dtype=int64)"
      ]
     },
     "execution_count": 7,
     "metadata": {},
     "output_type": "execute_result"
    }
   ],
   "source": [
    "data['Ic_0']"
   ]
  },
  {
   "cell_type": "code",
   "execution_count": 8,
   "metadata": {},
   "outputs": [
    {
     "data": {
      "text/plain": [
       "array([[  151.15723798,   157.09236032,   166.0663423 ,   175.26894184,\n",
       "          187.12271809,   200.29536627,   207.19011153,   220.23944915,\n",
       "          235.52590645,   247.09469931,   263.51055631,   281.18896107,\n",
       "          304.53407513,   316.7776232 ,   337.4146583 ,   359.08603642,\n",
       "          376.95873111,   410.63777058,   432.23666001,   466.32640805],\n",
       "       [  168.20103748,   175.31698233,   184.41546073,   191.23318015,\n",
       "          200.38958258,   212.84378649,   222.09570163,   237.44506788,\n",
       "          251.13497681,   263.20329764,   281.12505942,   299.02683147,\n",
       "          312.07088043,   336.08191882,   353.17466265,   372.3214408 ,\n",
       "          404.21116271,   424.09816716,   450.52039605,   482.72819186],\n",
       "       [  108.25555772,   116.61301613,   122.162737  ,   128.61290071,\n",
       "          136.27974903,   143.16249542,   153.75545994,   158.05373752,\n",
       "          171.84080869,   178.44468654,   190.6241656 ,   202.74814433,\n",
       "          214.01601724,   233.09216822,   246.84519371,   265.9302079 ,\n",
       "          277.11406479,   298.23288273,   319.98076886,   335.74020325],\n",
       "       [  121.06511809,   127.92622111,   135.55296184,   139.17575568,\n",
       "          145.96802355,   155.66883429,   164.0805325 ,   178.1596537 ,\n",
       "          185.66887853,   198.39032731,   208.02895346,   228.30967547,\n",
       "          238.76305577,   252.39827455,   266.91510839,   288.52708087,\n",
       "          307.45415685,   327.0509159 ,   340.54791241,   369.24496959],\n",
       "       [   96.28146613,   100.45775325,   104.28133454,   112.92946664,\n",
       "          121.2606668 ,   127.70950132,   135.47036843,   144.6282618 ,\n",
       "          154.01031199,   164.18497614,   171.82450374,   187.24907836,\n",
       "          197.50744069,   209.13508126,   225.85010003,   241.34624758,\n",
       "          251.78048183,   274.63197777,   291.14082196,   315.04205441],\n",
       "       [   89.06213629,   104.33672899,   122.66761528,   148.65036509,\n",
       "          176.68799415,   211.69862293,   249.55697169,   298.09036804,\n",
       "          351.57566439,   420.58582498,   507.23737581,   601.50138143,\n",
       "          718.19595226,   854.73444518,  1019.02544316,  1204.7460187 ,\n",
       "         1420.63526393,  1643.67767873,  1946.12597446,  2247.53972166],\n",
       "       [  131.37517442,   150.66522888,   176.78920214,   213.10475279,\n",
       "          252.07799809,   300.46925208,   362.02097279,   434.57939204,\n",
       "          507.55359925,   605.52682981,   718.63541606,   848.87891235,\n",
       "         1011.88696143,  1199.09862146,  1407.23294192,  1665.57448004,\n",
       "         1936.13503201,  2271.83643442,  2614.88919999,  3017.16077201],\n",
       "       [  112.92686331,   132.15184146,   156.53768593,   188.4478975 ,\n",
       "          220.41667622,   264.12948171,   313.26909083,   378.04068686,\n",
       "          444.93075375,   533.22501909,   627.90245518,   750.58064848,\n",
       "          894.05126796,  1044.38802306,  1258.07099998,  1472.33518628,\n",
       "         1726.96894717,  2003.52892004,  2373.60991581,  2753.68330122],\n",
       "       [  175.105311  ,   197.69655277,   234.37314189,   271.82141539,\n",
       "          317.88788977,   361.65155891,   427.52854491,   513.258584  ,\n",
       "          601.87657508,   723.04283772,   844.05086649,  1010.14251497,\n",
       "         1170.7094332 ,  1373.91854256,  1615.65158449,  1913.5241355 ,\n",
       "         2204.17051701,  2611.110637  ,  2984.04351489,  3323.97008123],\n",
       "       [   67.52879228,    76.57813082,    89.0125467 ,   102.5198856 ,\n",
       "          118.56093212,   144.53933247,   169.4576684 ,   199.71096744,\n",
       "          236.75102967,   285.63418153,   334.33779862,   405.53719896,\n",
       "          479.03227522,   576.36874428,   682.29023975,   790.47768935,\n",
       "          941.00368005,  1131.40243604,  1339.00100619,  1538.72273508],\n",
       "       [   84.50851597,   132.40305419,   199.27048727,   306.86490477,\n",
       "          448.33394085,   659.79509944,   966.8382816 ,  1408.04061276,\n",
       "         1991.25115427,  2753.2034935 ,  3838.88928909,  5287.90279901,\n",
       "         6910.96802999,  8507.78727263, 10572.16125555, 12118.87087196,\n",
       "        13649.28543143, 14591.24871753, 15080.19984373, 15471.38525153],\n",
       "       [  156.55620899,   227.66397515,   341.09459149,   497.44525502,\n",
       "          721.52530244,  1041.97887172,  1480.65257611,  2115.67557292,\n",
       "         2992.16795938,  4106.51767116,  5408.814675  ,  7068.42978728,\n",
       "         9045.37394677, 10675.57773428, 12344.14134148, 13664.66483466,\n",
       "        14734.88000442, 15242.1582421 , 15135.21194638, 15223.21579884],\n",
       "       [  138.30209136,   203.07824386,   291.85824175,   428.6616985 ,\n",
       "          627.92754503,   890.19804119,  1302.53849147,  1874.05901895,\n",
       "         2643.71025746,  3699.9047597 ,  4923.09414029,  6474.26215564,\n",
       "         8277.9573922 , 10221.07148451, 11904.81422828, 13341.3510476 ,\n",
       "        14160.52341758, 14701.81214102, 15423.31432755, 15159.04680442],\n",
       "       [   95.04501927,   150.1809574 ,   224.7344325 ,   344.00365265,\n",
       "          520.23290149,   759.27068646,  1090.32048613,  1581.78874913,\n",
       "         2273.41347764,  3190.80026541,  4299.58963994,  5812.82111235,\n",
       "         7422.13482588,  9235.40649723, 11166.58518237, 12540.56460812,\n",
       "        13737.0028421 , 14877.44432311, 15048.97619561, 15489.54588275],\n",
       "       [  131.93192255,   186.85361337,   277.03062593,   404.63099911,\n",
       "          575.34966707,   836.38859013,  1223.30799298,  1716.20456134,\n",
       "         2470.09882439,  3413.17038855,  4725.92459331,  6174.32428944,\n",
       "         7887.42725503,  9957.82609246, 11567.94896888, 13172.6574451 ,\n",
       "        14122.31184166, 14713.99593347, 15174.88267772, 15437.99060255],\n",
       "       [   60.77045199,   120.91993594,   229.20012877,   424.87751772,\n",
       "          738.97444767,  1314.52763749,  2222.43999871,  3692.68901232,\n",
       "         6000.8203981 ,  9049.99753567, 12690.04447186, 16655.88233055,\n",
       "        19747.56679312, 21787.75037584, 22627.79013072, 23445.13001036,\n",
       "        22677.20541685, 21877.67602571, 20436.502653  , 19502.73252576],\n",
       "       [  121.30830846,   248.55897273,   464.19185064,   848.4145724 ,\n",
       "         1470.74896231,  2590.26301101,  4187.45193444,  6622.24492026,\n",
       "         9944.44804212, 13852.35336844, 17338.82803959, 20383.6782321 ,\n",
       "        22233.97539818, 23179.33546186, 22652.8232763 , 22313.893838  ,\n",
       "        21632.8799408 , 20321.19775285, 19748.04406276, 18354.98298979],\n",
       "       [  206.00564717,   411.80340974,   754.55816952,  1355.89435567,\n",
       "         2300.96388328,  3972.59440034,  6244.13549702,  9592.25014606,\n",
       "        13467.30313529, 17266.97746581, 20608.59140077, 22127.93933273,\n",
       "        22705.38820659, 23288.91146068, 22355.03930188, 21614.78077635,\n",
       "        20897.34290447, 19399.90655074, 18473.32991425, 17333.22850926],\n",
       "       [  141.15541354,   252.11282994,   447.87010336,   804.98371553,\n",
       "         1390.81526165,  2338.55423544,  3908.66795644,  6217.21603483,\n",
       "         9445.26278568, 13152.40280556, 16777.61187643, 19971.85021429,\n",
       "        22044.54357889, 22674.98277457, 22858.01325296, 23058.16884912,\n",
       "        21549.55447274, 20978.40787997, 19569.37320476, 18285.17955768],\n",
       "       [   99.93560666,   199.54808293,   365.8590521 ,   650.42023491,\n",
       "         1156.31487856,  1988.64188088,  3377.13329978,  5397.94868832,\n",
       "         8243.85082791, 12039.72208365, 15835.67211362, 19128.32534246,\n",
       "        21390.90254458, 22982.235817  , 22965.83050233, 22688.4269024 ,\n",
       "        22211.68343591, 21161.29363716, 20100.97646445, 18900.25140752]])"
      ]
     },
     "execution_count": 8,
     "metadata": {},
     "output_type": "execute_result"
    }
   ],
   "source": [
    "data[\"L_validation\"]"
   ]
  },
  {
   "cell_type": "code",
   "execution_count": 21,
   "metadata": {},
   "outputs": [
    {
     "data": {
      "text/plain": [
       "(4,)"
      ]
     },
     "execution_count": 21,
     "metadata": {},
     "output_type": "execute_result"
    }
   ],
   "source": [
    "Lc.shape"
   ]
  },
  {
   "cell_type": "code",
   "execution_count": 102,
   "metadata": {},
   "outputs": [
    {
     "name": "stdout",
     "output_type": "stream",
     "text": [
      "[[25000. 15000.  5000.  5000.]\n",
      " [20000. 15000. 10000.  5000.]\n",
      " [15000. 15000. 10000. 10000.]\n",
      " [ 5000. 10000. 15000. 20000.]]\n",
      "[[47. 90. 51. 65.]\n",
      " [82. 31. 64. 86.]\n",
      " [30. 66. 39. 47.]\n",
      " [59. 26. 77. 38.]\n",
      " [20. 63. 70. 15.]\n",
      " [35. 31. 78. 11.]\n",
      " [50. 55. 93. 26.]\n",
      " [17. 89. 65. 25.]\n",
      " [70. 27. 66. 97.]\n",
      " [20. 18. 32. 31.]\n",
      " [76. 13. 61. 15.]\n",
      " [86. 48. 36. 89.]\n",
      " [96. 15. 44. 71.]\n",
      " [81. 53. 19. 36.]\n",
      " [29. 44. 99. 36.]\n",
      " [25. 34. 16. 28.]\n",
      " [23. 84. 71. 31.]\n",
      " [91. 70. 90. 90.]\n",
      " [32. 11. 68. 81.]\n",
      " [34. 37. 48. 41.]]\n",
      "[[0.3 0.4 0.7 1. ]]\n"
     ]
    }
   ],
   "source": [
    "leaf_nodes=(np.array([[.5,.3,.1,.1],[.4,.3,.2,.1],[.3,.3,.2,.2],[.1,.2,.3,.4]])*data[\"N\"])\n",
    "lf=leaf_nodes.reshape(-1,1)\n",
    "L_val=data[\"L_validation\"]\n",
    "Lc=data['Lc']\n",
    "Lc1=Lc.reshape(-1,1)\n",
    "betas_v=data[\"betas_validation\"]\n",
    "Ic_0=data['Ic_0'].reshape(-1,1)\n",
    "#Ic=Ic_0.flatten()\n",
    "t=np.linspace(0,20,21).reshape(-1,1)\n",
    "I=np.sum(Ic_0)\n",
    "Gamma=data[\"gamma\"]\n",
    "initial_v=np.concatenate([leaf_nodes.flatten(),Ic_0.flatten(),Lc1.flatten()])\n",
    "print(initial_v[:16].reshape(-1,4))\n",
    "print(initial_v[16:96].reshape(20,4))\n",
    "print(initial_v[96:100].reshape(1,4))"
   ]
  },
  {
   "cell_type": "code",
   "execution_count": 109,
   "metadata": {},
   "outputs": [],
   "source": [
    "def SIR(t,y,betas,gammas):\n",
    "    S_vec=y[:16].reshape(-1,4)\n",
    "    I_vec=y[16:96].reshape(-1,4)\n",
    "    L_vec=y[96:100].reshape(-1,4)\n",
    "    N=50000 ##population size \n",
    "    L=0\n",
    "    \n",
    "    \n",
    "    dsvc_dt=-(betas*S_vec*sum(I_vec)/N)\n",
    "    dic_dt=-(np.sum(dsvc_dt,axis=0))-(gammas*I_vec)\n",
    "    dr_dt=gammas*sum(I_vec)\n",
    "    L=I_vec*L_vec\n",
    "    vectors=np.concatenate([L.flatten()])\n",
    "    return vectors.reshape(-1,1)"
   ]
  },
  {
   "cell_type": "code",
   "execution_count": 117,
   "metadata": {},
   "outputs": [
    {
     "name": "stdout",
     "output_type": "stream",
     "text": [
      "(100,)\n"
     ]
    },
    {
     "ename": "ValueError",
     "evalue": "operands could not be broadcast together with shapes (4,4) (400,4) ",
     "output_type": "error",
     "traceback": [
      "\u001b[1;31m---------------------------------------------------------------------------\u001b[0m",
      "\u001b[1;31mValueError\u001b[0m                                Traceback (most recent call last)",
      "\u001b[1;32m<ipython-input-117-5b6d30859629>\u001b[0m in \u001b[0;36m<module>\u001b[1;34m\u001b[0m\n\u001b[0;32m     27\u001b[0m \u001b[1;33m\u001b[0m\u001b[0m\n\u001b[0;32m     28\u001b[0m \u001b[1;33m\u001b[0m\u001b[0m\n\u001b[1;32m---> 29\u001b[1;33m     \u001b[0msolution\u001b[0m\u001b[1;33m=\u001b[0m\u001b[0msolve_ivp\u001b[0m\u001b[1;33m(\u001b[0m\u001b[0mSIR\u001b[0m\u001b[1;33m,\u001b[0m\u001b[1;33m(\u001b[0m\u001b[0mt\u001b[0m\u001b[1;33m[\u001b[0m\u001b[1;36m0\u001b[0m\u001b[1;33m]\u001b[0m\u001b[1;33m,\u001b[0m\u001b[0mt\u001b[0m\u001b[1;33m[\u001b[0m\u001b[1;33m-\u001b[0m\u001b[1;36m1\u001b[0m\u001b[1;33m]\u001b[0m\u001b[1;33m)\u001b[0m\u001b[1;33m,\u001b[0m\u001b[0minitial_v\u001b[0m\u001b[1;33m,\u001b[0m\u001b[0margs\u001b[0m\u001b[1;33m=\u001b[0m\u001b[1;33m(\u001b[0m\u001b[0mbb\u001b[0m\u001b[1;33m,\u001b[0m\u001b[0mGamma\u001b[0m\u001b[1;33m)\u001b[0m\u001b[1;33m,\u001b[0m\u001b[0mdense_output\u001b[0m\u001b[1;33m=\u001b[0m\u001b[1;32mTrue\u001b[0m\u001b[1;33m)\u001b[0m\u001b[1;33m\u001b[0m\u001b[1;33m\u001b[0m\u001b[0m\n\u001b[0m\u001b[0;32m     30\u001b[0m     \u001b[0msolutions\u001b[0m \u001b[1;33m=\u001b[0m \u001b[0msoln_obj\u001b[0m\u001b[1;33m.\u001b[0m\u001b[0msol\u001b[0m\u001b[1;33m(\u001b[0m\u001b[0mt\u001b[0m\u001b[1;33m)\u001b[0m\u001b[1;33m\u001b[0m\u001b[1;33m\u001b[0m\u001b[0m\n\u001b[0;32m     31\u001b[0m     \u001b[0mlocal_mmse\u001b[0m\u001b[1;33m=\u001b[0m\u001b[0mnp\u001b[0m\u001b[1;33m.\u001b[0m\u001b[0minf\u001b[0m\u001b[1;33m\u001b[0m\u001b[1;33m\u001b[0m\u001b[0m\n",
      "\u001b[1;32m~\\anaconda3\\lib\\site-packages\\scipy\\integrate\\_ivp\\ivp.py\u001b[0m in \u001b[0;36msolve_ivp\u001b[1;34m(fun, t_span, y0, method, t_eval, dense_output, events, vectorized, args, **options)\u001b[0m\n\u001b[0;32m    540\u001b[0m         \u001b[0mmethod\u001b[0m \u001b[1;33m=\u001b[0m \u001b[0mMETHODS\u001b[0m\u001b[1;33m[\u001b[0m\u001b[0mmethod\u001b[0m\u001b[1;33m]\u001b[0m\u001b[1;33m\u001b[0m\u001b[1;33m\u001b[0m\u001b[0m\n\u001b[0;32m    541\u001b[0m \u001b[1;33m\u001b[0m\u001b[0m\n\u001b[1;32m--> 542\u001b[1;33m     \u001b[0msolver\u001b[0m \u001b[1;33m=\u001b[0m \u001b[0mmethod\u001b[0m\u001b[1;33m(\u001b[0m\u001b[0mfun\u001b[0m\u001b[1;33m,\u001b[0m \u001b[0mt0\u001b[0m\u001b[1;33m,\u001b[0m \u001b[0my0\u001b[0m\u001b[1;33m,\u001b[0m \u001b[0mtf\u001b[0m\u001b[1;33m,\u001b[0m \u001b[0mvectorized\u001b[0m\u001b[1;33m=\u001b[0m\u001b[0mvectorized\u001b[0m\u001b[1;33m,\u001b[0m \u001b[1;33m**\u001b[0m\u001b[0moptions\u001b[0m\u001b[1;33m)\u001b[0m\u001b[1;33m\u001b[0m\u001b[1;33m\u001b[0m\u001b[0m\n\u001b[0m\u001b[0;32m    543\u001b[0m \u001b[1;33m\u001b[0m\u001b[0m\n\u001b[0;32m    544\u001b[0m     \u001b[1;32mif\u001b[0m \u001b[0mt_eval\u001b[0m \u001b[1;32mis\u001b[0m \u001b[1;32mNone\u001b[0m\u001b[1;33m:\u001b[0m\u001b[1;33m\u001b[0m\u001b[1;33m\u001b[0m\u001b[0m\n",
      "\u001b[1;32m~\\anaconda3\\lib\\site-packages\\scipy\\integrate\\_ivp\\rk.py\u001b[0m in \u001b[0;36m__init__\u001b[1;34m(self, fun, t0, y0, t_bound, max_step, rtol, atol, vectorized, first_step, **extraneous)\u001b[0m\n\u001b[0;32m     94\u001b[0m         \u001b[0mself\u001b[0m\u001b[1;33m.\u001b[0m\u001b[0mf\u001b[0m \u001b[1;33m=\u001b[0m \u001b[0mself\u001b[0m\u001b[1;33m.\u001b[0m\u001b[0mfun\u001b[0m\u001b[1;33m(\u001b[0m\u001b[0mself\u001b[0m\u001b[1;33m.\u001b[0m\u001b[0mt\u001b[0m\u001b[1;33m,\u001b[0m \u001b[0mself\u001b[0m\u001b[1;33m.\u001b[0m\u001b[0my\u001b[0m\u001b[1;33m)\u001b[0m\u001b[1;33m\u001b[0m\u001b[1;33m\u001b[0m\u001b[0m\n\u001b[0;32m     95\u001b[0m         \u001b[1;32mif\u001b[0m \u001b[0mfirst_step\u001b[0m \u001b[1;32mis\u001b[0m \u001b[1;32mNone\u001b[0m\u001b[1;33m:\u001b[0m\u001b[1;33m\u001b[0m\u001b[1;33m\u001b[0m\u001b[0m\n\u001b[1;32m---> 96\u001b[1;33m             self.h_abs = select_initial_step(\n\u001b[0m\u001b[0;32m     97\u001b[0m                 \u001b[0mself\u001b[0m\u001b[1;33m.\u001b[0m\u001b[0mfun\u001b[0m\u001b[1;33m,\u001b[0m \u001b[0mself\u001b[0m\u001b[1;33m.\u001b[0m\u001b[0mt\u001b[0m\u001b[1;33m,\u001b[0m \u001b[0mself\u001b[0m\u001b[1;33m.\u001b[0m\u001b[0my\u001b[0m\u001b[1;33m,\u001b[0m \u001b[0mself\u001b[0m\u001b[1;33m.\u001b[0m\u001b[0mf\u001b[0m\u001b[1;33m,\u001b[0m \u001b[0mself\u001b[0m\u001b[1;33m.\u001b[0m\u001b[0mdirection\u001b[0m\u001b[1;33m,\u001b[0m\u001b[1;33m\u001b[0m\u001b[1;33m\u001b[0m\u001b[0m\n\u001b[0;32m     98\u001b[0m                 self.error_estimator_order, self.rtol, self.atol)\n",
      "\u001b[1;32m~\\anaconda3\\lib\\site-packages\\scipy\\integrate\\_ivp\\common.py\u001b[0m in \u001b[0;36mselect_initial_step\u001b[1;34m(fun, t0, y0, f0, direction, order, rtol, atol)\u001b[0m\n\u001b[0;32m    109\u001b[0m \u001b[1;33m\u001b[0m\u001b[0m\n\u001b[0;32m    110\u001b[0m     \u001b[0my1\u001b[0m \u001b[1;33m=\u001b[0m \u001b[0my0\u001b[0m \u001b[1;33m+\u001b[0m \u001b[0mh0\u001b[0m \u001b[1;33m*\u001b[0m \u001b[0mdirection\u001b[0m \u001b[1;33m*\u001b[0m \u001b[0mf0\u001b[0m\u001b[1;33m\u001b[0m\u001b[1;33m\u001b[0m\u001b[0m\n\u001b[1;32m--> 111\u001b[1;33m     \u001b[0mf1\u001b[0m \u001b[1;33m=\u001b[0m \u001b[0mfun\u001b[0m\u001b[1;33m(\u001b[0m\u001b[0mt0\u001b[0m \u001b[1;33m+\u001b[0m \u001b[0mh0\u001b[0m \u001b[1;33m*\u001b[0m \u001b[0mdirection\u001b[0m\u001b[1;33m,\u001b[0m \u001b[0my1\u001b[0m\u001b[1;33m)\u001b[0m\u001b[1;33m\u001b[0m\u001b[1;33m\u001b[0m\u001b[0m\n\u001b[0m\u001b[0;32m    112\u001b[0m     \u001b[0md2\u001b[0m \u001b[1;33m=\u001b[0m \u001b[0mnorm\u001b[0m\u001b[1;33m(\u001b[0m\u001b[1;33m(\u001b[0m\u001b[0mf1\u001b[0m \u001b[1;33m-\u001b[0m \u001b[0mf0\u001b[0m\u001b[1;33m)\u001b[0m \u001b[1;33m/\u001b[0m \u001b[0mscale\u001b[0m\u001b[1;33m)\u001b[0m \u001b[1;33m/\u001b[0m \u001b[0mh0\u001b[0m\u001b[1;33m\u001b[0m\u001b[1;33m\u001b[0m\u001b[0m\n\u001b[0;32m    113\u001b[0m \u001b[1;33m\u001b[0m\u001b[0m\n",
      "\u001b[1;32m~\\anaconda3\\lib\\site-packages\\scipy\\integrate\\_ivp\\base.py\u001b[0m in \u001b[0;36mfun\u001b[1;34m(t, y)\u001b[0m\n\u001b[0;32m    136\u001b[0m         \u001b[1;32mdef\u001b[0m \u001b[0mfun\u001b[0m\u001b[1;33m(\u001b[0m\u001b[0mt\u001b[0m\u001b[1;33m,\u001b[0m \u001b[0my\u001b[0m\u001b[1;33m)\u001b[0m\u001b[1;33m:\u001b[0m\u001b[1;33m\u001b[0m\u001b[1;33m\u001b[0m\u001b[0m\n\u001b[0;32m    137\u001b[0m             \u001b[0mself\u001b[0m\u001b[1;33m.\u001b[0m\u001b[0mnfev\u001b[0m \u001b[1;33m+=\u001b[0m \u001b[1;36m1\u001b[0m\u001b[1;33m\u001b[0m\u001b[1;33m\u001b[0m\u001b[0m\n\u001b[1;32m--> 138\u001b[1;33m             \u001b[1;32mreturn\u001b[0m \u001b[0mself\u001b[0m\u001b[1;33m.\u001b[0m\u001b[0mfun_single\u001b[0m\u001b[1;33m(\u001b[0m\u001b[0mt\u001b[0m\u001b[1;33m,\u001b[0m \u001b[0my\u001b[0m\u001b[1;33m)\u001b[0m\u001b[1;33m\u001b[0m\u001b[1;33m\u001b[0m\u001b[0m\n\u001b[0m\u001b[0;32m    139\u001b[0m \u001b[1;33m\u001b[0m\u001b[0m\n\u001b[0;32m    140\u001b[0m         \u001b[0mself\u001b[0m\u001b[1;33m.\u001b[0m\u001b[0mfun\u001b[0m \u001b[1;33m=\u001b[0m \u001b[0mfun\u001b[0m\u001b[1;33m\u001b[0m\u001b[1;33m\u001b[0m\u001b[0m\n",
      "\u001b[1;32m~\\anaconda3\\lib\\site-packages\\scipy\\integrate\\_ivp\\base.py\u001b[0m in \u001b[0;36mfun_wrapped\u001b[1;34m(t, y)\u001b[0m\n\u001b[0;32m     18\u001b[0m \u001b[1;33m\u001b[0m\u001b[0m\n\u001b[0;32m     19\u001b[0m     \u001b[1;32mdef\u001b[0m \u001b[0mfun_wrapped\u001b[0m\u001b[1;33m(\u001b[0m\u001b[0mt\u001b[0m\u001b[1;33m,\u001b[0m \u001b[0my\u001b[0m\u001b[1;33m)\u001b[0m\u001b[1;33m:\u001b[0m\u001b[1;33m\u001b[0m\u001b[1;33m\u001b[0m\u001b[0m\n\u001b[1;32m---> 20\u001b[1;33m         \u001b[1;32mreturn\u001b[0m \u001b[0mnp\u001b[0m\u001b[1;33m.\u001b[0m\u001b[0masarray\u001b[0m\u001b[1;33m(\u001b[0m\u001b[0mfun\u001b[0m\u001b[1;33m(\u001b[0m\u001b[0mt\u001b[0m\u001b[1;33m,\u001b[0m \u001b[0my\u001b[0m\u001b[1;33m)\u001b[0m\u001b[1;33m,\u001b[0m \u001b[0mdtype\u001b[0m\u001b[1;33m=\u001b[0m\u001b[0mdtype\u001b[0m\u001b[1;33m)\u001b[0m\u001b[1;33m\u001b[0m\u001b[1;33m\u001b[0m\u001b[0m\n\u001b[0m\u001b[0;32m     21\u001b[0m \u001b[1;33m\u001b[0m\u001b[0m\n\u001b[0;32m     22\u001b[0m     \u001b[1;32mreturn\u001b[0m \u001b[0mfun_wrapped\u001b[0m\u001b[1;33m,\u001b[0m \u001b[0my0\u001b[0m\u001b[1;33m\u001b[0m\u001b[1;33m\u001b[0m\u001b[0m\n",
      "\u001b[1;32m~\\anaconda3\\lib\\site-packages\\scipy\\integrate\\_ivp\\ivp.py\u001b[0m in \u001b[0;36m<lambda>\u001b[1;34m(t, x, fun)\u001b[0m\n\u001b[0;32m    512\u001b[0m         \u001b[1;31m# additional parameters.  Pass in the original fun as a keyword\u001b[0m\u001b[1;33m\u001b[0m\u001b[1;33m\u001b[0m\u001b[1;33m\u001b[0m\u001b[0m\n\u001b[0;32m    513\u001b[0m         \u001b[1;31m# argument to keep it in the scope of the lambda.\u001b[0m\u001b[1;33m\u001b[0m\u001b[1;33m\u001b[0m\u001b[1;33m\u001b[0m\u001b[0m\n\u001b[1;32m--> 514\u001b[1;33m         \u001b[0mfun\u001b[0m \u001b[1;33m=\u001b[0m \u001b[1;32mlambda\u001b[0m \u001b[0mt\u001b[0m\u001b[1;33m,\u001b[0m \u001b[0mx\u001b[0m\u001b[1;33m,\u001b[0m \u001b[0mfun\u001b[0m\u001b[1;33m=\u001b[0m\u001b[0mfun\u001b[0m\u001b[1;33m:\u001b[0m \u001b[0mfun\u001b[0m\u001b[1;33m(\u001b[0m\u001b[0mt\u001b[0m\u001b[1;33m,\u001b[0m \u001b[0mx\u001b[0m\u001b[1;33m,\u001b[0m \u001b[1;33m*\u001b[0m\u001b[0margs\u001b[0m\u001b[1;33m)\u001b[0m\u001b[1;33m\u001b[0m\u001b[1;33m\u001b[0m\u001b[0m\n\u001b[0m\u001b[0;32m    515\u001b[0m         \u001b[0mjac\u001b[0m \u001b[1;33m=\u001b[0m \u001b[0moptions\u001b[0m\u001b[1;33m.\u001b[0m\u001b[0mget\u001b[0m\u001b[1;33m(\u001b[0m\u001b[1;34m'jac'\u001b[0m\u001b[1;33m)\u001b[0m\u001b[1;33m\u001b[0m\u001b[1;33m\u001b[0m\u001b[0m\n\u001b[0;32m    516\u001b[0m         \u001b[1;32mif\u001b[0m \u001b[0mcallable\u001b[0m\u001b[1;33m(\u001b[0m\u001b[0mjac\u001b[0m\u001b[1;33m)\u001b[0m\u001b[1;33m:\u001b[0m\u001b[1;33m\u001b[0m\u001b[1;33m\u001b[0m\u001b[0m\n",
      "\u001b[1;32m<ipython-input-117-5b6d30859629>\u001b[0m in \u001b[0;36mSIR\u001b[1;34m(t, y, betas, gammas)\u001b[0m\n\u001b[0;32m     19\u001b[0m \u001b[1;33m\u001b[0m\u001b[0m\n\u001b[0;32m     20\u001b[0m \u001b[1;33m\u001b[0m\u001b[0m\n\u001b[1;32m---> 21\u001b[1;33m         \u001b[0mdsvc_dt\u001b[0m\u001b[1;33m=\u001b[0m\u001b[1;33m-\u001b[0m\u001b[1;33m(\u001b[0m\u001b[0mbetas\u001b[0m\u001b[1;33m*\u001b[0m\u001b[0mS_vec\u001b[0m\u001b[1;33m*\u001b[0m\u001b[0msum\u001b[0m\u001b[1;33m(\u001b[0m\u001b[0mI_vec\u001b[0m\u001b[1;33m)\u001b[0m\u001b[1;33m/\u001b[0m\u001b[0mN\u001b[0m\u001b[1;33m)\u001b[0m\u001b[1;33m\u001b[0m\u001b[1;33m\u001b[0m\u001b[0m\n\u001b[0m\u001b[0;32m     22\u001b[0m         \u001b[0mdic_dt\u001b[0m\u001b[1;33m=\u001b[0m\u001b[1;33m-\u001b[0m\u001b[1;33m(\u001b[0m\u001b[0mnp\u001b[0m\u001b[1;33m.\u001b[0m\u001b[0msum\u001b[0m\u001b[1;33m(\u001b[0m\u001b[0mdsvc_dt\u001b[0m\u001b[1;33m,\u001b[0m\u001b[0maxis\u001b[0m\u001b[1;33m=\u001b[0m\u001b[1;36m0\u001b[0m\u001b[1;33m)\u001b[0m\u001b[1;33m)\u001b[0m\u001b[1;33m-\u001b[0m\u001b[1;33m(\u001b[0m\u001b[0mgammas\u001b[0m\u001b[1;33m*\u001b[0m\u001b[0mI_vec\u001b[0m\u001b[1;33m)\u001b[0m\u001b[1;33m\u001b[0m\u001b[1;33m\u001b[0m\u001b[0m\n\u001b[0;32m     23\u001b[0m         \u001b[0mdr_dt\u001b[0m\u001b[1;33m=\u001b[0m\u001b[0mgammas\u001b[0m\u001b[1;33m*\u001b[0m\u001b[0msum\u001b[0m\u001b[1;33m(\u001b[0m\u001b[0mI_vec\u001b[0m\u001b[1;33m)\u001b[0m\u001b[1;33m\u001b[0m\u001b[1;33m\u001b[0m\u001b[0m\n",
      "\u001b[1;31mValueError\u001b[0m: operands could not be broadcast together with shapes (4,4) (400,4) "
     ]
    }
   ],
   "source": [
    "from sklearn.metrics import mean_squared_error\n",
    "from scipy.integrate import solve_ivp\n",
    "beta_grid=np.linspace(0.001,1,16).reshape(-1,4)\n",
    "\n",
    "bb=beta_grid\n",
    "\n",
    "mmse=np.inf\n",
    "beta_mmse=np.nan\n",
    "\n",
    "print(initial_v.shape)\n",
    "for b in beta_grid:\n",
    "\n",
    "    def SIR(t,y,betas,gammas):\n",
    "        S_vec=y[:16].reshape(-1,4)\n",
    "        I_vec=y[16:96].reshape(-1,4)\n",
    "        L_vec=y[96:100].reshape(-1,4)\n",
    "        N=50000 ##population size \n",
    "        L=0\n",
    "    \n",
    "    \n",
    "        dsvc_dt=-(betas*S_vec*sum(I_vec)/N)\n",
    "        dic_dt=-(np.sum(dsvc_dt,axis=0))-(gammas*I_vec)\n",
    "        dr_dt=gammas*sum(I_vec)\n",
    "        L=I_vec*L_vec\n",
    "        vectors=np.concatenate([L.flatten()])\n",
    "        return vectors.reshape(-1,1)\n",
    "    \n",
    "    \n",
    "    solution=solve_ivp(SIR,(t[0],t[-1]),initial_v,args=(bb,Gamma),dense_output=True)\n",
    "    solutions = soln_obj.sol(t)\n",
    "    local_mmse=np.inf\n"
   ]
  },
  {
   "cell_type": "code",
   "execution_count": null,
   "metadata": {},
   "outputs": [],
   "source": []
  },
  {
   "cell_type": "code",
   "execution_count": null,
   "metadata": {},
   "outputs": [],
   "source": []
  }
 ],
 "metadata": {
  "kernelspec": {
   "display_name": "Python 3",
   "language": "python",
   "name": "python3"
  },
  "language_info": {
   "codemirror_mode": {
    "name": "ipython",
    "version": 3
   },
   "file_extension": ".py",
   "mimetype": "text/x-python",
   "name": "python",
   "nbconvert_exporter": "python",
   "pygments_lexer": "ipython3",
   "version": "3.8.3"
  }
 },
 "nbformat": 4,
 "nbformat_minor": 4
}
